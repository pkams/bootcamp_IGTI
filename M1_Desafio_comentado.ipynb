{
  "nbformat": 4,
  "nbformat_minor": 0,
  "metadata": {
    "colab": {
      "name": "Untitled0.ipynb",
      "provenance": [],
      "authorship_tag": "ABX9TyPunt5Qkv/BDDCHZ98pEXZM",
      "include_colab_link": true
    },
    "kernelspec": {
      "name": "python3",
      "display_name": "Python 3"
    }
  },
  "cells": [
    {
      "cell_type": "markdown",
      "metadata": {
        "id": "view-in-github",
        "colab_type": "text"
      },
      "source": [
        "<a href=\"https://colab.research.google.com/github/pkams/bootcamp_IGTI/blob/master/desafio_modulo1_comentado.ipynb\" target=\"_parent\"><img src=\"https://colab.research.google.com/assets/colab-badge.svg\" alt=\"Open In Colab\"/></a>"
      ]
    },
    {
      "cell_type": "code",
      "metadata": {
        "id": "WePDulRzzMpv",
        "colab_type": "code",
        "colab": {}
      },
      "source": [
        "# Objetivo deste notebook é explicar questão a questão do primeiro desafio do \n",
        "# Bootcamp - Analista de Machine Learning, IGTI.\n",
        "\n",
        "# Abordarei a forma mais simples e direta de resolução de cada questão, \n",
        "# visando explicar o conceito e a função utilizada.   \n",
        "\n",
        "# Primeiramente, devemos importar as bibliotecas a serem utilizadas. \n",
        "# Como algumas questões pedem algoritmos especificos, vou abordar a utilização\n",
        "# de cada biblioteca especifica dentro de cada questão."
      ],
      "execution_count": 0,
      "outputs": []
    },
    {
      "cell_type": "code",
      "metadata": {
        "id": "pDITUUF-0-5l",
        "colab_type": "code",
        "colab": {
          "base_uri": "https://localhost:8080/",
          "height": 71
        },
        "outputId": "5137f7f1-c1b7-4636-9ca6-57d035ce39b9"
      },
      "source": [
        "# a maneira padrão de importação é:\n",
        "# import + \"biblioteca\" + as + \"nome que representará a bilioteca\"\n",
        "\n",
        "# Duas bibliotecas que sempre serão importadas são:\n",
        "import pandas as pd # biblioteca para manipulação dos dados\n",
        "import numpy as np # biblioteca de funções matematicas em geral\n",
        "\n",
        "# Para visualização, temos diversas opções, as duas mais comuns são:\n",
        "import matplotlib.pyplot as plt\n",
        "import seaborn as sns\n"
      ],
      "execution_count": 99,
      "outputs": [
        {
          "output_type": "stream",
          "text": [
            "/usr/local/lib/python3.6/dist-packages/statsmodels/tools/_testing.py:19: FutureWarning: pandas.util.testing is deprecated. Use the functions in the public API at pandas.testing instead.\n",
            "  import pandas.util.testing as tm\n"
          ],
          "name": "stderr"
        }
      ]
    },
    {
      "cell_type": "code",
      "metadata": {
        "id": "cKT3xhxtz-nZ",
        "colab_type": "code",
        "colab": {}
      },
      "source": [
        "# Estou utilizando o colab para criação do notebook, então fiz o upload manualmente\n",
        "# do arquivo. \n",
        "# Na aba lateral esquerda, clicar na pastinha(files), ir em upload e fazer\n",
        "# o upload manual do arquivo.\n",
        "# Ou então rodar o código abaixo:"
      ],
      "execution_count": 0,
      "outputs": []
    },
    {
      "cell_type": "code",
      "metadata": {
        "id": "kffh7t_uz-3o",
        "colab_type": "code",
        "colab": {
          "resources": {
            "http://localhost:8080/nbextensions/google.colab/files.js": {
              "data": "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",
              "ok": true,
              "headers": [
                [
                  "content-type",
                  "application/javascript"
                ]
              ],
              "status": 200,
              "status_text": ""
            }
          },
          "base_uri": "https://localhost:8080/",
          "height": 74
        },
        "outputId": "1f39b227-431a-42f9-e8fd-53a8d8784631"
      },
      "source": [
        "from google.colab import files\n",
        "uploaded = files.upload()"
      ],
      "execution_count": 11,
      "outputs": [
        {
          "output_type": "display_data",
          "data": {
            "text/html": [
              "\n",
              "     <input type=\"file\" id=\"files-b98241de-45aa-4fcb-a00f-8608698d31e8\" name=\"files[]\" multiple disabled />\n",
              "     <output id=\"result-b98241de-45aa-4fcb-a00f-8608698d31e8\">\n",
              "      Upload widget is only available when the cell has been executed in the\n",
              "      current browser session. Please rerun this cell to enable.\n",
              "      </output>\n",
              "      <script src=\"/nbextensions/google.colab/files.js\"></script> "
            ],
            "text/plain": [
              "<IPython.core.display.HTML object>"
            ]
          },
          "metadata": {
            "tags": []
          }
        },
        {
          "output_type": "stream",
          "text": [
            "Saving comp_bikes_mod.csv to comp_bikes_mod (1).csv\n"
          ],
          "name": "stdout"
        }
      ]
    },
    {
      "cell_type": "markdown",
      "metadata": {
        "id": "eUvlX4GW2Kei",
        "colab_type": "text"
      },
      "source": [
        ""
      ]
    },
    {
      "cell_type": "code",
      "metadata": {
        "id": "S1eO-QRU0-kC",
        "colab_type": "code",
        "colab": {}
      },
      "source": [
        "# Com o arquivo já upado, devemos abri-lo e associá-lo a um dataframe do pandas, \n",
        "# possibilitando que façamos as edições necessárias.\n",
        "\n",
        "df = pd.read_csv('comp_bikes_mod.csv')"
      ],
      "execution_count": 0,
      "outputs": []
    },
    {
      "cell_type": "code",
      "metadata": {
        "id": "O_NB6jj0zZnW",
        "colab_type": "code",
        "colab": {}
      },
      "source": [
        "# Com o arquivo associado ao termo 'df' podemos visualizar o conteudo:"
      ],
      "execution_count": 0,
      "outputs": []
    },
    {
      "cell_type": "code",
      "metadata": {
        "id": "aWH6rON6zgDK",
        "colab_type": "code",
        "colab": {
          "base_uri": "https://localhost:8080/",
          "height": 292
        },
        "outputId": "ef646916-3a84-4da5-b57f-e51d5a36ba2e"
      },
      "source": [
        "# .head() permite ver as 5 primeiras linhas do dataframe, para entendimento da\n",
        "# estrutura.\n",
        "# podemos passar outros valores para ver mais ou menos linhas\n",
        "# .head(3) ou .head(11) por exemplo.\n",
        "\n",
        "df.head()"
      ],
      "execution_count": 160,
      "outputs": [
        {
          "output_type": "execute_result",
          "data": {
            "text/html": [
              "<div>\n",
              "<style scoped>\n",
              "    .dataframe tbody tr th:only-of-type {\n",
              "        vertical-align: middle;\n",
              "    }\n",
              "\n",
              "    .dataframe tbody tr th {\n",
              "        vertical-align: top;\n",
              "    }\n",
              "\n",
              "    .dataframe thead th {\n",
              "        text-align: right;\n",
              "    }\n",
              "</style>\n",
              "<table border=\"1\" class=\"dataframe\">\n",
              "  <thead>\n",
              "    <tr style=\"text-align: right;\">\n",
              "      <th></th>\n",
              "      <th>instant</th>\n",
              "      <th>dteday</th>\n",
              "      <th>season</th>\n",
              "      <th>yr</th>\n",
              "      <th>mnth</th>\n",
              "      <th>hr</th>\n",
              "      <th>holiday</th>\n",
              "      <th>weekday</th>\n",
              "      <th>workingday</th>\n",
              "      <th>weathersit</th>\n",
              "      <th>temp</th>\n",
              "      <th>atemp</th>\n",
              "      <th>hum</th>\n",
              "      <th>windspeed</th>\n",
              "      <th>casual</th>\n",
              "      <th>registered</th>\n",
              "      <th>cnt</th>\n",
              "    </tr>\n",
              "  </thead>\n",
              "  <tbody>\n",
              "    <tr>\n",
              "      <th>0</th>\n",
              "      <td>1.0</td>\n",
              "      <td>NaN</td>\n",
              "      <td>1.0</td>\n",
              "      <td>0.0</td>\n",
              "      <td>1.0</td>\n",
              "      <td>0.0</td>\n",
              "      <td>0.0</td>\n",
              "      <td>6.0</td>\n",
              "      <td>0.0</td>\n",
              "      <td>1.0</td>\n",
              "      <td>NaN</td>\n",
              "      <td>0.2879</td>\n",
              "      <td>0.81</td>\n",
              "      <td>0.0</td>\n",
              "      <td>3.0</td>\n",
              "      <td>13.0</td>\n",
              "      <td>16.0</td>\n",
              "    </tr>\n",
              "    <tr>\n",
              "      <th>1</th>\n",
              "      <td>2.0</td>\n",
              "      <td>2011-01-01</td>\n",
              "      <td>1.0</td>\n",
              "      <td>0.0</td>\n",
              "      <td>1.0</td>\n",
              "      <td>1.0</td>\n",
              "      <td>0.0</td>\n",
              "      <td>6.0</td>\n",
              "      <td>0.0</td>\n",
              "      <td>NaN</td>\n",
              "      <td>0.22</td>\n",
              "      <td>0.2727</td>\n",
              "      <td>0.80</td>\n",
              "      <td>0.0</td>\n",
              "      <td>8.0</td>\n",
              "      <td>32.0</td>\n",
              "      <td>40.0</td>\n",
              "    </tr>\n",
              "    <tr>\n",
              "      <th>2</th>\n",
              "      <td>3.0</td>\n",
              "      <td>2011-01-01</td>\n",
              "      <td>1.0</td>\n",
              "      <td>0.0</td>\n",
              "      <td>1.0</td>\n",
              "      <td>2.0</td>\n",
              "      <td>0.0</td>\n",
              "      <td>6.0</td>\n",
              "      <td>0.0</td>\n",
              "      <td>1.0</td>\n",
              "      <td>0.22</td>\n",
              "      <td>0.2727</td>\n",
              "      <td>0.80</td>\n",
              "      <td>0.0</td>\n",
              "      <td>5.0</td>\n",
              "      <td>27.0</td>\n",
              "      <td>32.0</td>\n",
              "    </tr>\n",
              "    <tr>\n",
              "      <th>3</th>\n",
              "      <td>4.0</td>\n",
              "      <td>2011-01-01</td>\n",
              "      <td>1.0</td>\n",
              "      <td>0.0</td>\n",
              "      <td>1.0</td>\n",
              "      <td>3.0</td>\n",
              "      <td>0.0</td>\n",
              "      <td>6.0</td>\n",
              "      <td>0.0</td>\n",
              "      <td>1.0</td>\n",
              "      <td>0.24</td>\n",
              "      <td>0.2879</td>\n",
              "      <td>0.75</td>\n",
              "      <td>0.0</td>\n",
              "      <td>3.0</td>\n",
              "      <td>10.0</td>\n",
              "      <td>13.0</td>\n",
              "    </tr>\n",
              "    <tr>\n",
              "      <th>4</th>\n",
              "      <td>5.0</td>\n",
              "      <td>2011-01-01</td>\n",
              "      <td>1.0</td>\n",
              "      <td>0.0</td>\n",
              "      <td>1.0</td>\n",
              "      <td>4.0</td>\n",
              "      <td>0.0</td>\n",
              "      <td>6.0</td>\n",
              "      <td>NaN</td>\n",
              "      <td>1.0</td>\n",
              "      <td>0.24</td>\n",
              "      <td>0.2879</td>\n",
              "      <td>0.75</td>\n",
              "      <td>0.0</td>\n",
              "      <td>0.0</td>\n",
              "      <td>1.0</td>\n",
              "      <td>1.0</td>\n",
              "    </tr>\n",
              "  </tbody>\n",
              "</table>\n",
              "</div>"
            ],
            "text/plain": [
              "   instant      dteday  season   yr  ...  windspeed  casual  registered   cnt\n",
              "0      1.0         NaN     1.0  0.0  ...        0.0     3.0        13.0  16.0\n",
              "1      2.0  2011-01-01     1.0  0.0  ...        0.0     8.0        32.0  40.0\n",
              "2      3.0  2011-01-01     1.0  0.0  ...        0.0     5.0        27.0  32.0\n",
              "3      4.0  2011-01-01     1.0  0.0  ...        0.0     3.0        10.0  13.0\n",
              "4      5.0  2011-01-01     1.0  0.0  ...        0.0     0.0         1.0   1.0\n",
              "\n",
              "[5 rows x 17 columns]"
            ]
          },
          "metadata": {
            "tags": []
          },
          "execution_count": 160
        }
      ]
    },
    {
      "cell_type": "code",
      "metadata": {
        "id": "oq2yz0d7z9jR",
        "colab_type": "code",
        "colab": {
          "base_uri": "https://localhost:8080/",
          "height": 34
        },
        "outputId": "eea5aecc-fad8-4bdc-9e4f-d831834955ed"
      },
      "source": [
        "# As questões serão feitas fora de ordem pois elas são embaralhadas no desafio.\n",
        "\n",
        "# Questão:\n",
        "# No dataset utilizado para o desafio, quantas instâncias e atributos existem, respectivamente?\n",
        "\n",
        "# Resolução:\n",
        "# Os atributos são as colunas, as váriaveis que definem o dataset (season,temp,hum...)\n",
        "# As instancias são os exemplos que temos, ou seja as LINHAS (linha 1, linha 2...)\n",
        "# Temos então este formato: (instancias, atributos)\n",
        "# uma maneira simples de observar o num de linhas e colunas é:\n",
        "\n",
        "df.shape"
      ],
      "execution_count": 17,
      "outputs": [
        {
          "output_type": "execute_result",
          "data": {
            "text/plain": [
              "(17379, 17)"
            ]
          },
          "metadata": {
            "tags": []
          },
          "execution_count": 17
        }
      ]
    },
    {
      "cell_type": "code",
      "metadata": {
        "id": "DnRgl33y4rUJ",
        "colab_type": "code",
        "colab": {
          "base_uri": "https://localhost:8080/",
          "height": 323
        },
        "outputId": "371f35b8-f1c1-424d-d4a5-671c93d57251"
      },
      "source": [
        "# Questão:\n",
        "# Quantos tipos diferentes de dados existem no dataset?\n",
        "\n",
        "# Resolução:\n",
        "# Para responder este, é preciso verificar quais os tipos de dados temos no df.\n",
        "# A maneira mais simples é utilizando df.dtypes, que dará os tipos de cada coluna.\n",
        "\n",
        "df.dtypes"
      ],
      "execution_count": 18,
      "outputs": [
        {
          "output_type": "execute_result",
          "data": {
            "text/plain": [
              "instant       float64\n",
              "dteday         object\n",
              "season        float64\n",
              "yr            float64\n",
              "mnth          float64\n",
              "hr            float64\n",
              "holiday       float64\n",
              "weekday       float64\n",
              "workingday    float64\n",
              "weathersit    float64\n",
              "temp          float64\n",
              "atemp         float64\n",
              "hum           float64\n",
              "windspeed     float64\n",
              "casual        float64\n",
              "registered    float64\n",
              "cnt           float64\n",
              "dtype: object"
            ]
          },
          "metadata": {
            "tags": []
          },
          "execution_count": 18
        }
      ]
    },
    {
      "cell_type": "code",
      "metadata": {
        "id": "Pj6Se9yi5zar",
        "colab_type": "code",
        "colab": {}
      },
      "source": [
        "# Temos então dois tipos de dados no dataset: object e float64. "
      ],
      "execution_count": 0,
      "outputs": []
    },
    {
      "cell_type": "code",
      "metadata": {
        "id": "u6fMJDKh56b0",
        "colab_type": "code",
        "colab": {
          "base_uri": "https://localhost:8080/",
          "height": 323
        },
        "outputId": "c6bb3a0c-dbca-4125-ccf4-423c135e0690"
      },
      "source": [
        "# Questão:\n",
        "# Qual é a proporção (em %) de valores nulos existente na coluna \"temp\" (temperatura ambiente normalizada)?\n",
        "\n",
        "# Resolução:\n",
        "# Para responder essa podemos utilizar uma série de funções:\n",
        "\n",
        "# df.isna().sum() dará a quantidade de nulos em cada coluna\n",
        "\n",
        "df.isna().sum()"
      ],
      "execution_count": 24,
      "outputs": [
        {
          "output_type": "execute_result",
          "data": {
            "text/plain": [
              "instant       1738\n",
              "dteday        1738\n",
              "season        1738\n",
              "yr            1738\n",
              "mnth          1738\n",
              "hr            1738\n",
              "holiday       1738\n",
              "weekday       1738\n",
              "workingday    1738\n",
              "weathersit    1738\n",
              "temp          1738\n",
              "atemp         1738\n",
              "hum           1738\n",
              "windspeed     1738\n",
              "casual        1738\n",
              "registered    1738\n",
              "cnt           1738\n",
              "dtype: int64"
            ]
          },
          "metadata": {
            "tags": []
          },
          "execution_count": 24
        }
      ]
    },
    {
      "cell_type": "code",
      "metadata": {
        "id": "J6MO88qK6JtS",
        "colab_type": "code",
        "colab": {
          "base_uri": "https://localhost:8080/",
          "height": 34
        },
        "outputId": "1c867fb9-72c7-4d41-9783-3dfb78d9aed8"
      },
      "source": [
        "# Para pegar a porcentagem de uma coluna especifica precisamos chamar a função\n",
        "# isnan para pegar o total de NaN's e então dividir pelo total geral.\n",
        "\n",
        "# df['temp'] -> seleciona apenas a coluna temp\n",
        "\n",
        "df['temp'].isna().sum()"
      ],
      "execution_count": 26,
      "outputs": [
        {
          "output_type": "execute_result",
          "data": {
            "text/plain": [
              "1738"
            ]
          },
          "metadata": {
            "tags": []
          },
          "execution_count": 26
        }
      ]
    },
    {
      "cell_type": "code",
      "metadata": {
        "id": "NpzcALZ86sxQ",
        "colab_type": "code",
        "colab": {
          "base_uri": "https://localhost:8080/",
          "height": 34
        },
        "outputId": "2a617948-9ee8-47f7-c01a-92c0fa5b1c2e"
      },
      "source": [
        "# Para pegar o tamanho da coluna podemos usar a função len() ou novamente o .shape()\n",
        "\n",
        "len(df['temp']) "
      ],
      "execution_count": 34,
      "outputs": [
        {
          "output_type": "execute_result",
          "data": {
            "text/plain": [
              "17379"
            ]
          },
          "metadata": {
            "tags": []
          },
          "execution_count": 34
        }
      ]
    },
    {
      "cell_type": "code",
      "metadata": {
        "id": "hqK-KXC77Joa",
        "colab_type": "code",
        "colab": {
          "base_uri": "https://localhost:8080/",
          "height": 34
        },
        "outputId": "5744d643-dd29-47e4-b52f-cba3c64708d7"
      },
      "source": [
        "# Dividindo então:\n",
        "# Quantidade de nulos / Quantidade total\n",
        "\n",
        "df['temp'].isna().sum() / len(df['temp'])"
      ],
      "execution_count": 36,
      "outputs": [
        {
          "output_type": "execute_result",
          "data": {
            "text/plain": [
              "0.10000575407100523"
            ]
          },
          "metadata": {
            "tags": []
          },
          "execution_count": 36
        }
      ]
    },
    {
      "cell_type": "code",
      "metadata": {
        "id": "zb7OZ6OJ7a-Y",
        "colab_type": "code",
        "colab": {}
      },
      "source": [
        "# Lembrando que existem bibliotecas e funções que fazem esse calculo diretamente,\n",
        "# neste caso estou usando os metódos ''na mão'' que mais facilmente atingem o resultado\n",
        "# visando o aprendizado das principais funções envolvidas."
      ],
      "execution_count": 0,
      "outputs": []
    },
    {
      "cell_type": "code",
      "metadata": {
        "id": "VrsNmn3w74LB",
        "colab_type": "code",
        "colab": {}
      },
      "source": [
        "# Questao:\n",
        "# Após retirar as linhas que contém valores nulos para a coluna \"dteday\", \n",
        "# passamos a contar com quantas instancias e atributos, respectivamente?\n",
        "\n",
        "# Resolução: \n",
        "# Para retirar os NaN podemos usar .dropna()\n",
        "# E novamente aplicar o .shape"
      ],
      "execution_count": 0,
      "outputs": []
    },
    {
      "cell_type": "code",
      "metadata": {
        "id": "SX-fuh1N8R9Y",
        "colab_type": "code",
        "colab": {}
      },
      "source": [
        "# É uma boa prática salvar o dataframe com outro nome, caso seja necessário voltar\n",
        "# e utilizar os dados inicias em algum outro momento.\n",
        "# subset permite selecionar de qual colunas queremos dropar os NaN, neste caso\n",
        "# foi pedido a dteday na questão.\n",
        "\n",
        "df_drop = df.dropna(subset=['dteday'])\n",
        "\n",
        "# Obs: Neste caso irá dropar todas as linhas que tiverem NaN no subset 'dteday'\n",
        "# Poderiamos dropar as COLUNAS sinalizando um axis=1 dentro da funcao .dropna()"
      ],
      "execution_count": 0,
      "outputs": []
    },
    {
      "cell_type": "code",
      "metadata": {
        "id": "PFdmNT4h9EZh",
        "colab_type": "code",
        "colab": {
          "base_uri": "https://localhost:8080/",
          "height": 34
        },
        "outputId": "ee23f4cc-4aad-4830-d0f1-6421f03fce5e"
      },
      "source": [
        "# Novamente, (instancias, atributos)\n",
        "df_drop.shape"
      ],
      "execution_count": 43,
      "outputs": [
        {
          "output_type": "execute_result",
          "data": {
            "text/plain": [
              "(15641, 17)"
            ]
          },
          "metadata": {
            "tags": []
          },
          "execution_count": 43
        }
      ]
    },
    {
      "cell_type": "code",
      "metadata": {
        "id": "-Bn7svhZ9MRE",
        "colab_type": "code",
        "colab": {}
      },
      "source": [
        "# Questão:\n",
        "# Considere o dataset após a retirada das linhas que continham valores nulos para a coluna \"dteday\". \n",
        "# Selecione as colunas \"season\", \"temp\", \"atemp\", \"hum\", \"windspeed\". \n",
        "# Plot a matriz de correlação. Sobre as variáveis \"hum\" e \"cnt\" é CORRETO afirmar:\n",
        "\n",
        "# Resolução:\n",
        "# Nesta questão não fala sobre colocar o atributo 'cnt' na matriz de correlação,\n",
        "# mas presume-se que devemos adicioná-la para poder comparar com as outras.\n",
        "\n",
        "# Para gerar a matriz de correlacao podemos fazer df.corr()"
      ],
      "execution_count": 0,
      "outputs": []
    },
    {
      "cell_type": "code",
      "metadata": {
        "id": "SQGvj6mk98qp",
        "colab_type": "code",
        "colab": {
          "base_uri": "https://localhost:8080/",
          "height": 565
        },
        "outputId": "71f265b4-dd10-412c-c1a8-40238ef280ce"
      },
      "source": [
        "df_drop.corr()"
      ],
      "execution_count": 57,
      "outputs": [
        {
          "output_type": "execute_result",
          "data": {
            "text/html": [
              "<div>\n",
              "<style scoped>\n",
              "    .dataframe tbody tr th:only-of-type {\n",
              "        vertical-align: middle;\n",
              "    }\n",
              "\n",
              "    .dataframe tbody tr th {\n",
              "        vertical-align: top;\n",
              "    }\n",
              "\n",
              "    .dataframe thead th {\n",
              "        text-align: right;\n",
              "    }\n",
              "</style>\n",
              "<table border=\"1\" class=\"dataframe\">\n",
              "  <thead>\n",
              "    <tr style=\"text-align: right;\">\n",
              "      <th></th>\n",
              "      <th>instant</th>\n",
              "      <th>season</th>\n",
              "      <th>yr</th>\n",
              "      <th>mnth</th>\n",
              "      <th>hr</th>\n",
              "      <th>holiday</th>\n",
              "      <th>weekday</th>\n",
              "      <th>workingday</th>\n",
              "      <th>weathersit</th>\n",
              "      <th>temp</th>\n",
              "      <th>atemp</th>\n",
              "      <th>hum</th>\n",
              "      <th>windspeed</th>\n",
              "      <th>casual</th>\n",
              "      <th>registered</th>\n",
              "      <th>cnt</th>\n",
              "    </tr>\n",
              "  </thead>\n",
              "  <tbody>\n",
              "    <tr>\n",
              "      <th>instant</th>\n",
              "      <td>1.000000</td>\n",
              "      <td>0.407970</td>\n",
              "      <td>0.866207</td>\n",
              "      <td>0.488959</td>\n",
              "      <td>-0.008643</td>\n",
              "      <td>0.014597</td>\n",
              "      <td>-0.001126</td>\n",
              "      <td>-0.010626</td>\n",
              "      <td>-0.020270</td>\n",
              "      <td>0.141681</td>\n",
              "      <td>0.141808</td>\n",
              "      <td>0.007919</td>\n",
              "      <td>-0.072738</td>\n",
              "      <td>0.167456</td>\n",
              "      <td>0.288272</td>\n",
              "      <td>0.282132</td>\n",
              "    </tr>\n",
              "    <tr>\n",
              "      <th>season</th>\n",
              "      <td>0.407970</td>\n",
              "      <td>1.000000</td>\n",
              "      <td>-0.005610</td>\n",
              "      <td>0.830177</td>\n",
              "      <td>-0.004903</td>\n",
              "      <td>-0.006846</td>\n",
              "      <td>0.005788</td>\n",
              "      <td>0.011555</td>\n",
              "      <td>-0.013153</td>\n",
              "      <td>0.311273</td>\n",
              "      <td>0.319559</td>\n",
              "      <td>0.146984</td>\n",
              "      <td>-0.149802</td>\n",
              "      <td>0.123779</td>\n",
              "      <td>0.173305</td>\n",
              "      <td>0.179190</td>\n",
              "    </tr>\n",
              "    <tr>\n",
              "      <th>yr</th>\n",
              "      <td>0.866207</td>\n",
              "      <td>-0.005610</td>\n",
              "      <td>1.000000</td>\n",
              "      <td>-0.010337</td>\n",
              "      <td>-0.006261</td>\n",
              "      <td>0.007763</td>\n",
              "      <td>-0.008526</td>\n",
              "      <td>-0.000958</td>\n",
              "      <td>-0.026142</td>\n",
              "      <td>0.040857</td>\n",
              "      <td>0.037290</td>\n",
              "      <td>-0.082335</td>\n",
              "      <td>-0.010422</td>\n",
              "      <td>0.141733</td>\n",
              "      <td>0.258888</td>\n",
              "      <td>0.252729</td>\n",
              "    </tr>\n",
              "    <tr>\n",
              "      <th>mnth</th>\n",
              "      <td>0.488959</td>\n",
              "      <td>0.830177</td>\n",
              "      <td>-0.010337</td>\n",
              "      <td>1.000000</td>\n",
              "      <td>-0.005681</td>\n",
              "      <td>0.021196</td>\n",
              "      <td>0.018991</td>\n",
              "      <td>-0.004235</td>\n",
              "      <td>0.002774</td>\n",
              "      <td>0.202203</td>\n",
              "      <td>0.210337</td>\n",
              "      <td>0.158109</td>\n",
              "      <td>-0.126643</td>\n",
              "      <td>0.074406</td>\n",
              "      <td>0.127226</td>\n",
              "      <td>0.129162</td>\n",
              "    </tr>\n",
              "    <tr>\n",
              "      <th>hr</th>\n",
              "      <td>-0.008643</td>\n",
              "      <td>-0.004903</td>\n",
              "      <td>-0.006261</td>\n",
              "      <td>-0.005681</td>\n",
              "      <td>1.000000</td>\n",
              "      <td>0.009332</td>\n",
              "      <td>-0.010738</td>\n",
              "      <td>-0.003002</td>\n",
              "      <td>-0.023388</td>\n",
              "      <td>0.142102</td>\n",
              "      <td>0.136946</td>\n",
              "      <td>-0.277403</td>\n",
              "      <td>0.140474</td>\n",
              "      <td>0.303261</td>\n",
              "      <td>0.371388</td>\n",
              "      <td>0.391391</td>\n",
              "    </tr>\n",
              "    <tr>\n",
              "      <th>holiday</th>\n",
              "      <td>0.014597</td>\n",
              "      <td>-0.006846</td>\n",
              "      <td>0.007763</td>\n",
              "      <td>0.021196</td>\n",
              "      <td>0.009332</td>\n",
              "      <td>1.000000</td>\n",
              "      <td>-0.099102</td>\n",
              "      <td>-0.250450</td>\n",
              "      <td>-0.018945</td>\n",
              "      <td>-0.031273</td>\n",
              "      <td>-0.037606</td>\n",
              "      <td>-0.008809</td>\n",
              "      <td>0.008267</td>\n",
              "      <td>0.014519</td>\n",
              "      <td>-0.050193</td>\n",
              "      <td>-0.036150</td>\n",
              "    </tr>\n",
              "    <tr>\n",
              "      <th>weekday</th>\n",
              "      <td>-0.001126</td>\n",
              "      <td>0.005788</td>\n",
              "      <td>-0.008526</td>\n",
              "      <td>0.018991</td>\n",
              "      <td>-0.010738</td>\n",
              "      <td>-0.099102</td>\n",
              "      <td>1.000000</td>\n",
              "      <td>0.038821</td>\n",
              "      <td>0.004393</td>\n",
              "      <td>-0.004478</td>\n",
              "      <td>-0.011512</td>\n",
              "      <td>-0.035510</td>\n",
              "      <td>0.011014</td>\n",
              "      <td>0.025301</td>\n",
              "      <td>0.020142</td>\n",
              "      <td>0.021396</td>\n",
              "    </tr>\n",
              "    <tr>\n",
              "      <th>workingday</th>\n",
              "      <td>-0.010626</td>\n",
              "      <td>0.011555</td>\n",
              "      <td>-0.000958</td>\n",
              "      <td>-0.004235</td>\n",
              "      <td>-0.003002</td>\n",
              "      <td>-0.250450</td>\n",
              "      <td>0.038821</td>\n",
              "      <td>1.000000</td>\n",
              "      <td>0.050468</td>\n",
              "      <td>0.053113</td>\n",
              "      <td>0.055287</td>\n",
              "      <td>0.017469</td>\n",
              "      <td>-0.010926</td>\n",
              "      <td>-0.300811</td>\n",
              "      <td>0.130360</td>\n",
              "      <td>0.028170</td>\n",
              "    </tr>\n",
              "    <tr>\n",
              "      <th>weathersit</th>\n",
              "      <td>-0.020270</td>\n",
              "      <td>-0.013153</td>\n",
              "      <td>-0.026142</td>\n",
              "      <td>0.002774</td>\n",
              "      <td>-0.023388</td>\n",
              "      <td>-0.018945</td>\n",
              "      <td>0.004393</td>\n",
              "      <td>0.050468</td>\n",
              "      <td>1.000000</td>\n",
              "      <td>-0.101245</td>\n",
              "      <td>-0.105254</td>\n",
              "      <td>0.418574</td>\n",
              "      <td>0.025729</td>\n",
              "      <td>-0.152335</td>\n",
              "      <td>-0.118396</td>\n",
              "      <td>-0.141622</td>\n",
              "    </tr>\n",
              "    <tr>\n",
              "      <th>temp</th>\n",
              "      <td>0.141681</td>\n",
              "      <td>0.311273</td>\n",
              "      <td>0.040857</td>\n",
              "      <td>0.202203</td>\n",
              "      <td>0.142102</td>\n",
              "      <td>-0.031273</td>\n",
              "      <td>-0.004478</td>\n",
              "      <td>0.053113</td>\n",
              "      <td>-0.101245</td>\n",
              "      <td>1.000000</td>\n",
              "      <td>0.988102</td>\n",
              "      <td>-0.069887</td>\n",
              "      <td>-0.016022</td>\n",
              "      <td>0.458735</td>\n",
              "      <td>0.329653</td>\n",
              "      <td>0.405867</td>\n",
              "    </tr>\n",
              "    <tr>\n",
              "      <th>atemp</th>\n",
              "      <td>0.141808</td>\n",
              "      <td>0.319559</td>\n",
              "      <td>0.037290</td>\n",
              "      <td>0.210337</td>\n",
              "      <td>0.136946</td>\n",
              "      <td>-0.037606</td>\n",
              "      <td>-0.011512</td>\n",
              "      <td>0.055287</td>\n",
              "      <td>-0.105254</td>\n",
              "      <td>0.988102</td>\n",
              "      <td>1.000000</td>\n",
              "      <td>-0.054224</td>\n",
              "      <td>-0.058803</td>\n",
              "      <td>0.452364</td>\n",
              "      <td>0.329114</td>\n",
              "      <td>0.403810</td>\n",
              "    </tr>\n",
              "    <tr>\n",
              "      <th>hum</th>\n",
              "      <td>0.007919</td>\n",
              "      <td>0.146984</td>\n",
              "      <td>-0.082335</td>\n",
              "      <td>0.158109</td>\n",
              "      <td>-0.277403</td>\n",
              "      <td>-0.008809</td>\n",
              "      <td>-0.035510</td>\n",
              "      <td>0.017469</td>\n",
              "      <td>0.418574</td>\n",
              "      <td>-0.069887</td>\n",
              "      <td>-0.054224</td>\n",
              "      <td>1.000000</td>\n",
              "      <td>-0.289859</td>\n",
              "      <td>-0.346854</td>\n",
              "      <td>-0.269400</td>\n",
              "      <td>-0.323409</td>\n",
              "    </tr>\n",
              "    <tr>\n",
              "      <th>windspeed</th>\n",
              "      <td>-0.072738</td>\n",
              "      <td>-0.149802</td>\n",
              "      <td>-0.010422</td>\n",
              "      <td>-0.126643</td>\n",
              "      <td>0.140474</td>\n",
              "      <td>0.008267</td>\n",
              "      <td>0.011014</td>\n",
              "      <td>-0.010926</td>\n",
              "      <td>0.025729</td>\n",
              "      <td>-0.016022</td>\n",
              "      <td>-0.058803</td>\n",
              "      <td>-0.289859</td>\n",
              "      <td>1.000000</td>\n",
              "      <td>0.095489</td>\n",
              "      <td>0.084248</td>\n",
              "      <td>0.091747</td>\n",
              "    </tr>\n",
              "    <tr>\n",
              "      <th>casual</th>\n",
              "      <td>0.167456</td>\n",
              "      <td>0.123779</td>\n",
              "      <td>0.141733</td>\n",
              "      <td>0.074406</td>\n",
              "      <td>0.303261</td>\n",
              "      <td>0.014519</td>\n",
              "      <td>0.025301</td>\n",
              "      <td>-0.300811</td>\n",
              "      <td>-0.152335</td>\n",
              "      <td>0.458735</td>\n",
              "      <td>0.452364</td>\n",
              "      <td>-0.346854</td>\n",
              "      <td>0.095489</td>\n",
              "      <td>1.000000</td>\n",
              "      <td>0.504264</td>\n",
              "      <td>0.693109</td>\n",
              "    </tr>\n",
              "    <tr>\n",
              "      <th>registered</th>\n",
              "      <td>0.288272</td>\n",
              "      <td>0.173305</td>\n",
              "      <td>0.258888</td>\n",
              "      <td>0.127226</td>\n",
              "      <td>0.371388</td>\n",
              "      <td>-0.050193</td>\n",
              "      <td>0.020142</td>\n",
              "      <td>0.130360</td>\n",
              "      <td>-0.118396</td>\n",
              "      <td>0.329653</td>\n",
              "      <td>0.329114</td>\n",
              "      <td>-0.269400</td>\n",
              "      <td>0.084248</td>\n",
              "      <td>0.504264</td>\n",
              "      <td>1.000000</td>\n",
              "      <td>0.972567</td>\n",
              "    </tr>\n",
              "    <tr>\n",
              "      <th>cnt</th>\n",
              "      <td>0.282132</td>\n",
              "      <td>0.179190</td>\n",
              "      <td>0.252729</td>\n",
              "      <td>0.129162</td>\n",
              "      <td>0.391391</td>\n",
              "      <td>-0.036150</td>\n",
              "      <td>0.021396</td>\n",
              "      <td>0.028170</td>\n",
              "      <td>-0.141622</td>\n",
              "      <td>0.405867</td>\n",
              "      <td>0.403810</td>\n",
              "      <td>-0.323409</td>\n",
              "      <td>0.091747</td>\n",
              "      <td>0.693109</td>\n",
              "      <td>0.972567</td>\n",
              "      <td>1.000000</td>\n",
              "    </tr>\n",
              "  </tbody>\n",
              "</table>\n",
              "</div>"
            ],
            "text/plain": [
              "             instant    season        yr  ...    casual  registered       cnt\n",
              "instant     1.000000  0.407970  0.866207  ...  0.167456    0.288272  0.282132\n",
              "season      0.407970  1.000000 -0.005610  ...  0.123779    0.173305  0.179190\n",
              "yr          0.866207 -0.005610  1.000000  ...  0.141733    0.258888  0.252729\n",
              "mnth        0.488959  0.830177 -0.010337  ...  0.074406    0.127226  0.129162\n",
              "hr         -0.008643 -0.004903 -0.006261  ...  0.303261    0.371388  0.391391\n",
              "holiday     0.014597 -0.006846  0.007763  ...  0.014519   -0.050193 -0.036150\n",
              "weekday    -0.001126  0.005788 -0.008526  ...  0.025301    0.020142  0.021396\n",
              "workingday -0.010626  0.011555 -0.000958  ... -0.300811    0.130360  0.028170\n",
              "weathersit -0.020270 -0.013153 -0.026142  ... -0.152335   -0.118396 -0.141622\n",
              "temp        0.141681  0.311273  0.040857  ...  0.458735    0.329653  0.405867\n",
              "atemp       0.141808  0.319559  0.037290  ...  0.452364    0.329114  0.403810\n",
              "hum         0.007919  0.146984 -0.082335  ... -0.346854   -0.269400 -0.323409\n",
              "windspeed  -0.072738 -0.149802 -0.010422  ...  0.095489    0.084248  0.091747\n",
              "casual      0.167456  0.123779  0.141733  ...  1.000000    0.504264  0.693109\n",
              "registered  0.288272  0.173305  0.258888  ...  0.504264    1.000000  0.972567\n",
              "cnt         0.282132  0.179190  0.252729  ...  0.693109    0.972567  1.000000\n",
              "\n",
              "[16 rows x 16 columns]"
            ]
          },
          "metadata": {
            "tags": []
          },
          "execution_count": 57
        }
      ]
    },
    {
      "cell_type": "code",
      "metadata": {
        "id": "LLipbDEz-PMA",
        "colab_type": "code",
        "colab": {
          "base_uri": "https://localhost:8080/",
          "height": 235
        },
        "outputId": "c34f6204-42a4-4cbc-a16a-fe594367b79b"
      },
      "source": [
        "# Na matriz acima ja seriapossivel observar TODAS as relações entre atributos.\n",
        "# Entretanto é pedido para selecionarmos alguns.\n",
        "# O processo é o mesmo, porém selecionando as váriaveis:\n",
        "# df['variavel'].corr() ou df[['variavel1', 'variavel2',....]].corr()\n",
        "\n",
        "df_drop[[\"season\", \"temp\", \"atemp\", \"hum\", \"windspeed\", 'cnt']].corr()"
      ],
      "execution_count": 58,
      "outputs": [
        {
          "output_type": "execute_result",
          "data": {
            "text/html": [
              "<div>\n",
              "<style scoped>\n",
              "    .dataframe tbody tr th:only-of-type {\n",
              "        vertical-align: middle;\n",
              "    }\n",
              "\n",
              "    .dataframe tbody tr th {\n",
              "        vertical-align: top;\n",
              "    }\n",
              "\n",
              "    .dataframe thead th {\n",
              "        text-align: right;\n",
              "    }\n",
              "</style>\n",
              "<table border=\"1\" class=\"dataframe\">\n",
              "  <thead>\n",
              "    <tr style=\"text-align: right;\">\n",
              "      <th></th>\n",
              "      <th>season</th>\n",
              "      <th>temp</th>\n",
              "      <th>atemp</th>\n",
              "      <th>hum</th>\n",
              "      <th>windspeed</th>\n",
              "      <th>cnt</th>\n",
              "    </tr>\n",
              "  </thead>\n",
              "  <tbody>\n",
              "    <tr>\n",
              "      <th>season</th>\n",
              "      <td>1.000000</td>\n",
              "      <td>0.311273</td>\n",
              "      <td>0.319559</td>\n",
              "      <td>0.146984</td>\n",
              "      <td>-0.149802</td>\n",
              "      <td>0.179190</td>\n",
              "    </tr>\n",
              "    <tr>\n",
              "      <th>temp</th>\n",
              "      <td>0.311273</td>\n",
              "      <td>1.000000</td>\n",
              "      <td>0.988102</td>\n",
              "      <td>-0.069887</td>\n",
              "      <td>-0.016022</td>\n",
              "      <td>0.405867</td>\n",
              "    </tr>\n",
              "    <tr>\n",
              "      <th>atemp</th>\n",
              "      <td>0.319559</td>\n",
              "      <td>0.988102</td>\n",
              "      <td>1.000000</td>\n",
              "      <td>-0.054224</td>\n",
              "      <td>-0.058803</td>\n",
              "      <td>0.403810</td>\n",
              "    </tr>\n",
              "    <tr>\n",
              "      <th>hum</th>\n",
              "      <td>0.146984</td>\n",
              "      <td>-0.069887</td>\n",
              "      <td>-0.054224</td>\n",
              "      <td>1.000000</td>\n",
              "      <td>-0.289859</td>\n",
              "      <td>-0.323409</td>\n",
              "    </tr>\n",
              "    <tr>\n",
              "      <th>windspeed</th>\n",
              "      <td>-0.149802</td>\n",
              "      <td>-0.016022</td>\n",
              "      <td>-0.058803</td>\n",
              "      <td>-0.289859</td>\n",
              "      <td>1.000000</td>\n",
              "      <td>0.091747</td>\n",
              "    </tr>\n",
              "    <tr>\n",
              "      <th>cnt</th>\n",
              "      <td>0.179190</td>\n",
              "      <td>0.405867</td>\n",
              "      <td>0.403810</td>\n",
              "      <td>-0.323409</td>\n",
              "      <td>0.091747</td>\n",
              "      <td>1.000000</td>\n",
              "    </tr>\n",
              "  </tbody>\n",
              "</table>\n",
              "</div>"
            ],
            "text/plain": [
              "             season      temp     atemp       hum  windspeed       cnt\n",
              "season     1.000000  0.311273  0.319559  0.146984  -0.149802  0.179190\n",
              "temp       0.311273  1.000000  0.988102 -0.069887  -0.016022  0.405867\n",
              "atemp      0.319559  0.988102  1.000000 -0.054224  -0.058803  0.403810\n",
              "hum        0.146984 -0.069887 -0.054224  1.000000  -0.289859 -0.323409\n",
              "windspeed -0.149802 -0.016022 -0.058803 -0.289859   1.000000  0.091747\n",
              "cnt        0.179190  0.405867  0.403810 -0.323409   0.091747  1.000000"
            ]
          },
          "metadata": {
            "tags": []
          },
          "execution_count": 58
        }
      ]
    },
    {
      "cell_type": "code",
      "metadata": {
        "id": "ldjx6L5U-bia",
        "colab_type": "code",
        "colab": {
          "base_uri": "https://localhost:8080/",
          "height": 34
        },
        "outputId": "f680ec2d-4d75-4be5-cb1c-f59b69d098d6"
      },
      "source": [
        "# Pela matriz acima podemos ver a linha e coluna de intersecção dos atributos 'hum' e 'cnt'\n",
        "# Ou então selecionamos na mão:\n",
        "\n",
        "df_drop[[\"season\", \"temp\", \"atemp\", \"hum\", \"windspeed\", 'cnt']].corr('pearson')['cnt']['hum']"
      ],
      "execution_count": 59,
      "outputs": [
        {
          "output_type": "execute_result",
          "data": {
            "text/plain": [
              "-0.3234094870662662"
            ]
          },
          "metadata": {
            "tags": []
          },
          "execution_count": 59
        }
      ]
    },
    {
      "cell_type": "code",
      "metadata": {
        "id": "Q8xKKxXN-5De",
        "colab_type": "code",
        "colab": {}
      },
      "source": [
        "# Abaixo de .4 costuma-se considerar baixa correlação, como temos um valor negativo então\n",
        "# BAIXA CORRELAÇÃO NEGATIVA é a resposta."
      ],
      "execution_count": 0,
      "outputs": []
    },
    {
      "cell_type": "code",
      "metadata": {
        "id": "U-P113kr_MHI",
        "colab_type": "code",
        "colab": {
          "base_uri": "https://localhost:8080/",
          "height": 34
        },
        "outputId": "871d4d73-d87d-4bc1-a3a0-ba2e65959d87"
      },
      "source": [
        "# Questão:\n",
        "\n",
        "# Considere o dataset após a retirada das linhas que continham valores nulos para a coluna \"dteday\". \n",
        "# Qual é o valor médio para os dados da coluna \"temp\" (temperatura ambiente normalizada)?\n",
        "\n",
        "# Podemos acessar diferentes medidas estatisticas diretamente:\n",
        "# .mean(), .std(), .min(), .max()...\n",
        "# Como queremos da coluna TEMP acessamos ela diretamente através de:\n",
        "# dataframe['coluna']\n",
        "\n",
        "df_drop['temp'].mean()"
      ],
      "execution_count": 89,
      "outputs": [
        {
          "output_type": "execute_result",
          "data": {
            "text/plain": [
              "0.4969259206597582"
            ]
          },
          "metadata": {
            "tags": []
          },
          "execution_count": 89
        }
      ]
    },
    {
      "cell_type": "code",
      "metadata": {
        "id": "fM2TSoqPFScB",
        "colab_type": "code",
        "colab": {
          "base_uri": "https://localhost:8080/",
          "height": 34
        },
        "outputId": "7e40949e-4611-4acd-c59b-65d693d4675f"
      },
      "source": [
        "# Questão:\n",
        "# Considere o dataset após a retirada das linhas que continham valores nulos para a coluna \"dteday\". \n",
        "# Qual é o desvio padrão para os dados da coluna \"windspeed\" (velocidade do vento normalizada)?\n",
        "\n",
        "df_drop['windspeed'].std()"
      ],
      "execution_count": 90,
      "outputs": [
        {
          "output_type": "execute_result",
          "data": {
            "text/plain": [
              "0.12230930508286268"
            ]
          },
          "metadata": {
            "tags": []
          },
          "execution_count": 90
        }
      ]
    },
    {
      "cell_type": "code",
      "metadata": {
        "id": "1z5IgutqCxS6",
        "colab_type": "code",
        "colab": {
          "base_uri": "https://localhost:8080/",
          "height": 317
        },
        "outputId": "0e4eb463-d7f0-4685-a74c-891885417f1b"
      },
      "source": [
        "# Poderiamos usar a função .describe() para acessar diretamente todos os dados estatisticos das colunas.\n",
        "\n",
        "df_drop.describe()"
      ],
      "execution_count": 96,
      "outputs": [
        {
          "output_type": "execute_result",
          "data": {
            "text/html": [
              "<div>\n",
              "<style scoped>\n",
              "    .dataframe tbody tr th:only-of-type {\n",
              "        vertical-align: middle;\n",
              "    }\n",
              "\n",
              "    .dataframe tbody tr th {\n",
              "        vertical-align: top;\n",
              "    }\n",
              "\n",
              "    .dataframe thead th {\n",
              "        text-align: right;\n",
              "    }\n",
              "</style>\n",
              "<table border=\"1\" class=\"dataframe\">\n",
              "  <thead>\n",
              "    <tr style=\"text-align: right;\">\n",
              "      <th></th>\n",
              "      <th>instant</th>\n",
              "      <th>season</th>\n",
              "      <th>yr</th>\n",
              "      <th>mnth</th>\n",
              "      <th>hr</th>\n",
              "      <th>holiday</th>\n",
              "      <th>weekday</th>\n",
              "      <th>workingday</th>\n",
              "      <th>weathersit</th>\n",
              "      <th>temp</th>\n",
              "      <th>atemp</th>\n",
              "      <th>hum</th>\n",
              "      <th>windspeed</th>\n",
              "      <th>casual</th>\n",
              "      <th>registered</th>\n",
              "      <th>cnt</th>\n",
              "    </tr>\n",
              "  </thead>\n",
              "  <tbody>\n",
              "    <tr>\n",
              "      <th>count</th>\n",
              "      <td>14060.000000</td>\n",
              "      <td>14061.000000</td>\n",
              "      <td>14076.000000</td>\n",
              "      <td>14062.000000</td>\n",
              "      <td>14068.000000</td>\n",
              "      <td>14076.000000</td>\n",
              "      <td>14078.000000</td>\n",
              "      <td>14097.000000</td>\n",
              "      <td>14078.000000</td>\n",
              "      <td>14066.000000</td>\n",
              "      <td>14076.000000</td>\n",
              "      <td>14070.000000</td>\n",
              "      <td>14082.000000</td>\n",
              "      <td>14071.000000</td>\n",
              "      <td>14090.000000</td>\n",
              "      <td>14079.000000</td>\n",
              "    </tr>\n",
              "    <tr>\n",
              "      <th>mean</th>\n",
              "      <td>8679.717496</td>\n",
              "      <td>2.507930</td>\n",
              "      <td>0.501563</td>\n",
              "      <td>6.542810</td>\n",
              "      <td>11.486779</td>\n",
              "      <td>0.027707</td>\n",
              "      <td>3.006535</td>\n",
              "      <td>0.683053</td>\n",
              "      <td>1.422432</td>\n",
              "      <td>0.496926</td>\n",
              "      <td>0.476055</td>\n",
              "      <td>0.627357</td>\n",
              "      <td>0.189552</td>\n",
              "      <td>35.416317</td>\n",
              "      <td>153.280625</td>\n",
              "      <td>189.165850</td>\n",
              "    </tr>\n",
              "    <tr>\n",
              "      <th>std</th>\n",
              "      <td>5015.960092</td>\n",
              "      <td>1.110674</td>\n",
              "      <td>0.500015</td>\n",
              "      <td>3.443693</td>\n",
              "      <td>6.915101</td>\n",
              "      <td>0.164137</td>\n",
              "      <td>2.002829</td>\n",
              "      <td>0.465303</td>\n",
              "      <td>0.638937</td>\n",
              "      <td>0.192971</td>\n",
              "      <td>0.172827</td>\n",
              "      <td>0.192863</td>\n",
              "      <td>0.122309</td>\n",
              "      <td>48.770799</td>\n",
              "      <td>151.317869</td>\n",
              "      <td>181.223589</td>\n",
              "    </tr>\n",
              "    <tr>\n",
              "      <th>min</th>\n",
              "      <td>2.000000</td>\n",
              "      <td>1.000000</td>\n",
              "      <td>0.000000</td>\n",
              "      <td>1.000000</td>\n",
              "      <td>0.000000</td>\n",
              "      <td>0.000000</td>\n",
              "      <td>0.000000</td>\n",
              "      <td>0.000000</td>\n",
              "      <td>1.000000</td>\n",
              "      <td>0.020000</td>\n",
              "      <td>0.000000</td>\n",
              "      <td>0.000000</td>\n",
              "      <td>0.000000</td>\n",
              "      <td>0.000000</td>\n",
              "      <td>0.000000</td>\n",
              "      <td>1.000000</td>\n",
              "    </tr>\n",
              "    <tr>\n",
              "      <th>25%</th>\n",
              "      <td>4336.250000</td>\n",
              "      <td>2.000000</td>\n",
              "      <td>0.000000</td>\n",
              "      <td>4.000000</td>\n",
              "      <td>6.000000</td>\n",
              "      <td>0.000000</td>\n",
              "      <td>1.000000</td>\n",
              "      <td>0.000000</td>\n",
              "      <td>1.000000</td>\n",
              "      <td>0.340000</td>\n",
              "      <td>0.333300</td>\n",
              "      <td>0.480000</td>\n",
              "      <td>0.104500</td>\n",
              "      <td>4.000000</td>\n",
              "      <td>34.000000</td>\n",
              "      <td>40.000000</td>\n",
              "    </tr>\n",
              "    <tr>\n",
              "      <th>50%</th>\n",
              "      <td>8677.500000</td>\n",
              "      <td>3.000000</td>\n",
              "      <td>1.000000</td>\n",
              "      <td>7.000000</td>\n",
              "      <td>11.000000</td>\n",
              "      <td>0.000000</td>\n",
              "      <td>3.000000</td>\n",
              "      <td>1.000000</td>\n",
              "      <td>1.000000</td>\n",
              "      <td>0.500000</td>\n",
              "      <td>0.484800</td>\n",
              "      <td>0.630000</td>\n",
              "      <td>0.164200</td>\n",
              "      <td>17.000000</td>\n",
              "      <td>115.000000</td>\n",
              "      <td>142.000000</td>\n",
              "    </tr>\n",
              "    <tr>\n",
              "      <th>75%</th>\n",
              "      <td>13024.250000</td>\n",
              "      <td>3.000000</td>\n",
              "      <td>1.000000</td>\n",
              "      <td>10.000000</td>\n",
              "      <td>17.000000</td>\n",
              "      <td>0.000000</td>\n",
              "      <td>5.000000</td>\n",
              "      <td>1.000000</td>\n",
              "      <td>2.000000</td>\n",
              "      <td>0.660000</td>\n",
              "      <td>0.621200</td>\n",
              "      <td>0.780000</td>\n",
              "      <td>0.253700</td>\n",
              "      <td>48.000000</td>\n",
              "      <td>219.000000</td>\n",
              "      <td>280.000000</td>\n",
              "    </tr>\n",
              "    <tr>\n",
              "      <th>max</th>\n",
              "      <td>17376.000000</td>\n",
              "      <td>4.000000</td>\n",
              "      <td>1.000000</td>\n",
              "      <td>12.000000</td>\n",
              "      <td>23.000000</td>\n",
              "      <td>1.000000</td>\n",
              "      <td>6.000000</td>\n",
              "      <td>1.000000</td>\n",
              "      <td>4.000000</td>\n",
              "      <td>1.000000</td>\n",
              "      <td>1.000000</td>\n",
              "      <td>1.000000</td>\n",
              "      <td>0.850700</td>\n",
              "      <td>367.000000</td>\n",
              "      <td>886.000000</td>\n",
              "      <td>977.000000</td>\n",
              "    </tr>\n",
              "  </tbody>\n",
              "</table>\n",
              "</div>"
            ],
            "text/plain": [
              "            instant        season  ...    registered           cnt\n",
              "count  14060.000000  14061.000000  ...  14090.000000  14079.000000\n",
              "mean    8679.717496      2.507930  ...    153.280625    189.165850\n",
              "std     5015.960092      1.110674  ...    151.317869    181.223589\n",
              "min        2.000000      1.000000  ...      0.000000      1.000000\n",
              "25%     4336.250000      2.000000  ...     34.000000     40.000000\n",
              "50%     8677.500000      3.000000  ...    115.000000    142.000000\n",
              "75%    13024.250000      3.000000  ...    219.000000    280.000000\n",
              "max    17376.000000      4.000000  ...    886.000000    977.000000\n",
              "\n",
              "[8 rows x 16 columns]"
            ]
          },
          "metadata": {
            "tags": []
          },
          "execution_count": 96
        }
      ]
    },
    {
      "cell_type": "code",
      "metadata": {
        "id": "ITe38pGKHfUB",
        "colab_type": "code",
        "colab": {
          "base_uri": "https://localhost:8080/",
          "height": 296
        },
        "outputId": "b05c89cf-f78a-4d2f-af58-785691970f83"
      },
      "source": [
        "# Questão\n",
        "# Considere o dataset após a retirada das linhas que continham valores nulos para a coluna \"dteday\". \n",
        "# Considerendo o boxplot da variável \"windspeed\" (velocidade do vento) é CORRETO afirmar?\n",
        "\n",
        "# Podemos ver o boxplot de várias maneiras, as mais simples e diretas são:\n",
        "\n",
        "sns.boxplot(df_drop['windspeed'])"
      ],
      "execution_count": 102,
      "outputs": [
        {
          "output_type": "execute_result",
          "data": {
            "text/plain": [
              "<matplotlib.axes._subplots.AxesSubplot at 0x7f935d046828>"
            ]
          },
          "metadata": {
            "tags": []
          },
          "execution_count": 102
        },
        {
          "output_type": "display_data",
          "data": {
            "image/png": "[encoded data removed]",
            "text/plain": [
              "<Figure size 432x288 with 1 Axes>"
            ]
          },
          "metadata": {
            "tags": [],
            "needs_background": "light"
          }
        }
      ]
    },
    {
      "cell_type": "code",
      "metadata": {
        "id": "wpgsibWtIFW_",
        "colab_type": "code",
        "colab": {
          "base_uri": "https://localhost:8080/",
          "height": 269
        },
        "outputId": "3aba8f0d-62f8-450e-d946-87c3e3b7eddc"
      },
      "source": [
        "sns.boxplot(df_drop['windspeed'], orient='v')"
      ],
      "execution_count": 105,
      "outputs": [
        {
          "output_type": "execute_result",
          "data": {
            "text/plain": [
              "<matplotlib.axes._subplots.AxesSubplot at 0x7f935ceb15f8>"
            ]
          },
          "metadata": {
            "tags": []
          },
          "execution_count": 105
        },
        {
          "output_type": "display_data",
          "data": {
            "image/png": "[encoded data removed]",
            "text/plain": [
              "<Figure size 432x288 with 1 Axes>"
            ]
          },
          "metadata": {
            "tags": [],
            "needs_background": "light"
          }
        }
      ]
    },
    {
      "cell_type": "code",
      "metadata": {
        "id": "ak69teCaIMly",
        "colab_type": "code",
        "colab": {
          "base_uri": "https://localhost:8080/",
          "height": 282
        },
        "outputId": "d21a5db1-a12e-4e48-86bf-e296b2b05d91"
      },
      "source": [
        "df_drop[['windspeed']].boxplot()\n",
        "\n",
        "# Utilizamos dois [[]] aqui pois estamos acessando um método dataframe."
      ],
      "execution_count": 123,
      "outputs": [
        {
          "output_type": "execute_result",
          "data": {
            "text/plain": [
              "<matplotlib.axes._subplots.AxesSubplot at 0x7f935c716dd8>"
            ]
          },
          "metadata": {
            "tags": []
          },
          "execution_count": 123
        },
        {
          "output_type": "display_data",
          "data": {
            "image/png": "[encoded data removed]",
            "text/plain": [
              "<Figure size 432x288 with 1 Axes>"
            ]
          },
          "metadata": {
            "tags": [],
            "needs_background": "light"
          }
        }
      ]
    },
    {
      "cell_type": "code",
      "metadata": {
        "id": "o3O0mja7KHIw",
        "colab_type": "code",
        "colab": {
          "base_uri": "https://localhost:8080/",
          "height": 34
        },
        "outputId": "099db5da-8163-4f76-c707-bea2d1d862da"
      },
      "source": [
        "df_drop['windspeed'].isna().sum()"
      ],
      "execution_count": 131,
      "outputs": [
        {
          "output_type": "execute_result",
          "data": {
            "text/plain": [
              "1559"
            ]
          },
          "metadata": {
            "tags": []
          },
          "execution_count": 131
        }
      ]
    },
    {
      "cell_type": "code",
      "metadata": {
        "id": "HmlMaNrQJiyG",
        "colab_type": "code",
        "colab": {}
      },
      "source": [
        "# Resolução:\n",
        "# Neste caso percebemos diversos outliers, baseando-se no plot do gráfico."
      ],
      "execution_count": 0,
      "outputs": []
    },
    {
      "cell_type": "code",
      "metadata": {
        "id": "WjTmljDRJEdB",
        "colab_type": "code",
        "colab": {}
      },
      "source": [
        "# São diversos os métodos que permitem plotar os graficos, diversas bibliotecas permitem:\n",
        "# matplotlib, seaborn, plotly, altair...\n",
        "# A maioria delas permitem os mesmos tipos de plots, mudando apenas a funcionalidade individual de cada uma. \n",
        "# Algumas são mais interativas, outras permitem animações e edições em tempo real."
      ],
      "execution_count": 0,
      "outputs": []
    },
    {
      "cell_type": "code",
      "metadata": {
        "id": "SGnSwTH5LC5K",
        "colab_type": "code",
        "colab": {
          "base_uri": "https://localhost:8080/",
          "height": 34
        },
        "outputId": "4939ab8e-8bcf-47de-f0b8-c773453ed1a2"
      },
      "source": [
        "# Questão:\n",
        "# Considere o dataset após a retirada das linhas que continham valores nulos para a coluna \"dteday\". \n",
        "# Transforme a coluna \"season\" em valores categóricos. Quantas categorias diferentes existem?\n",
        "\n",
        "# Podemos responder esta questão de diferentes formas:\n",
        "\n",
        "# Diretamente verificando os valores unicos(ignorando NaN)\n",
        "df_drop['season'].nunique() \n",
        "# Observando os valores únicos => numero de categorias que serãocriadas"
      ],
      "execution_count": 141,
      "outputs": [
        {
          "output_type": "execute_result",
          "data": {
            "text/plain": [
              "4"
            ]
          },
          "metadata": {
            "tags": []
          },
          "execution_count": 141
        }
      ]
    },
    {
      "cell_type": "code",
      "metadata": {
        "id": "xgSMKKNkMYxM",
        "colab_type": "code",
        "colab": {}
      },
      "source": [
        "# usando o .astype() para mudar o tipo da váriavel para categórica\n",
        "df_season = df_drop['season'].astype('category')"
      ],
      "execution_count": 0,
      "outputs": []
    },
    {
      "cell_type": "code",
      "metadata": {
        "id": "7QPm_69xMe_2",
        "colab_type": "code",
        "colab": {
          "base_uri": "https://localhost:8080/",
          "height": 34
        },
        "outputId": "3317eb9d-5c3f-4ce1-e6a9-011729dafc83"
      },
      "source": [
        "# E então verificando:\n",
        "df_season.dtypes"
      ],
      "execution_count": 150,
      "outputs": [
        {
          "output_type": "execute_result",
          "data": {
            "text/plain": [
              "CategoricalDtype(categories=[1.0, 2.0, 3.0, 4.0], ordered=False)"
            ]
          },
          "metadata": {
            "tags": []
          },
          "execution_count": 150
        }
      ]
    },
    {
      "cell_type": "code",
      "metadata": {
        "id": "X0nPFPP5Mmxv",
        "colab_type": "code",
        "colab": {
          "base_uri": "https://localhost:8080/",
          "height": 34
        },
        "outputId": "fdb87e1b-b215-4bd7-8e6c-f535633c1ada"
      },
      "source": [
        "# Aqui não é muito intuitivo, mas podemos chegar as categorias com:\n",
        "list(df_season.cat.categories)"
      ],
      "execution_count": 155,
      "outputs": [
        {
          "output_type": "execute_result",
          "data": {
            "text/plain": [
              "[1.0, 2.0, 3.0, 4.0]"
            ]
          },
          "metadata": {
            "tags": []
          },
          "execution_count": 155
        }
      ]
    },
    {
      "cell_type": "code",
      "metadata": {
        "id": "Q6wj7wgSNfUw",
        "colab_type": "code",
        "colab": {}
      },
      "source": [
        "# Questão:\n",
        "\n",
        "# Considere o dataset após a retirada das linhas que continham valores nulos para a coluna \"dteday\". \n",
        "# Transforme a coluna \"dteday\" no tipo \"datetime\". Qual é a última data presente no dataset ( YYYY-MM-DD)?\n",
        "\n",
        "# Resolução:\n",
        "# Para transformar em datetime utilizamos: pd.to_datetime()\n",
        "# Devemos passar o argumento format='' com o formato da data.\n",
        "# Existem códigos para passar o formato da data.\n",
        "# Nossas datas estão no formato: ano4digitos - mes - dia\n",
        "# temos então:\n",
        "# pd.to_datetime(coluna, formato)\n",
        "\n",
        "df['dteday'] = pd.to_datetime(df['dteday'],format='%Y-%m-%d')"
      ],
      "execution_count": 0,
      "outputs": []
    },
    {
      "cell_type": "code",
      "metadata": {
        "id": "IXfjgPfrPVQn",
        "colab_type": "code",
        "colab": {
          "base_uri": "https://localhost:8080/",
          "height": 323
        },
        "outputId": "81a1fce2-f1d7-4c8d-997b-d9e601b21840"
      },
      "source": [
        "# Verificamos com dtypes:\n",
        "\n",
        "df.dtypes"
      ],
      "execution_count": 169,
      "outputs": [
        {
          "output_type": "execute_result",
          "data": {
            "text/plain": [
              "instant              float64\n",
              "dteday        datetime64[ns]\n",
              "season               float64\n",
              "yr                   float64\n",
              "mnth                 float64\n",
              "hr                   float64\n",
              "holiday              float64\n",
              "weekday              float64\n",
              "workingday           float64\n",
              "weathersit           float64\n",
              "temp                 float64\n",
              "atemp                float64\n",
              "hum                  float64\n",
              "windspeed            float64\n",
              "casual               float64\n",
              "registered           float64\n",
              "cnt                  float64\n",
              "dtype: object"
            ]
          },
          "metadata": {
            "tags": []
          },
          "execution_count": 169
        }
      ]
    },
    {
      "cell_type": "code",
      "metadata": {
        "id": "nmiOSNC2Pdpr",
        "colab_type": "code",
        "colab": {
          "base_uri": "https://localhost:8080/",
          "height": 34
        },
        "outputId": "dd970667-39ea-4700-a2b2-d2d49e03fccb"
      },
      "source": [
        "# Para achar a ultima data de maneira simples é só aplicar o método .max() para ver o maior valor\n",
        "\n",
        "df['dteday'].max()"
      ],
      "execution_count": 170,
      "outputs": [
        {
          "output_type": "execute_result",
          "data": {
            "text/plain": [
              "Timestamp('2012-12-31 00:00:00')"
            ]
          },
          "metadata": {
            "tags": []
          },
          "execution_count": 170
        }
      ]
    },
    {
      "cell_type": "code",
      "metadata": {
        "id": "EJiPbQKtAznZ",
        "colab_type": "code",
        "colab": {}
      },
      "source": [
        "# Questão:\n",
        "# Preencha os valores nulos das colunas \"hum\",\"cnt\" e \"casual\" com os valores médios. \n",
        "# Utilize as variáveis \"hum\" e \"casual\" como independentes e a \"cnt\" como dependente. \n",
        "# Aplique uma regressão linear. Qual o valor de R2? Utilize as entradas como teste.\n",
        "\n",
        "# Resolução:\n",
        "# Primeiramente temos que preencher os valores das colunas 'hum','cnt','casual' com os valores médios.\n",
        "# Vamos entender primeiramente como acessar esses valores médios.]\n",
        "\n",
        "# Primeiro, vamos salvar um dataframe novo APENAS com os valores das colunas que iremos utilizar:\n",
        "\n",
        "df_med = df_drop[['hum', 'cnt', 'casual']]"
      ],
      "execution_count": 0,
      "outputs": []
    },
    {
      "cell_type": "code",
      "metadata": {
        "id": "iGEikY4bBbZQ",
        "colab_type": "code",
        "colab": {
          "base_uri": "https://localhost:8080/",
          "height": 204
        },
        "outputId": "8840b5d7-9266-4682-cd41-b7c1396565e3"
      },
      "source": [
        "# Podemos ver nosso dataframe:\n",
        "\n",
        "df_med.head()"
      ],
      "execution_count": 67,
      "outputs": [
        {
          "output_type": "execute_result",
          "data": {
            "text/html": [
              "<div>\n",
              "<style scoped>\n",
              "    .dataframe tbody tr th:only-of-type {\n",
              "        vertical-align: middle;\n",
              "    }\n",
              "\n",
              "    .dataframe tbody tr th {\n",
              "        vertical-align: top;\n",
              "    }\n",
              "\n",
              "    .dataframe thead th {\n",
              "        text-align: right;\n",
              "    }\n",
              "</style>\n",
              "<table border=\"1\" class=\"dataframe\">\n",
              "  <thead>\n",
              "    <tr style=\"text-align: right;\">\n",
              "      <th></th>\n",
              "      <th>hum</th>\n",
              "      <th>cnt</th>\n",
              "      <th>casual</th>\n",
              "    </tr>\n",
              "  </thead>\n",
              "  <tbody>\n",
              "    <tr>\n",
              "      <th>1</th>\n",
              "      <td>0.80</td>\n",
              "      <td>40.0</td>\n",
              "      <td>8.0</td>\n",
              "    </tr>\n",
              "    <tr>\n",
              "      <th>2</th>\n",
              "      <td>0.80</td>\n",
              "      <td>32.0</td>\n",
              "      <td>5.0</td>\n",
              "    </tr>\n",
              "    <tr>\n",
              "      <th>3</th>\n",
              "      <td>0.75</td>\n",
              "      <td>13.0</td>\n",
              "      <td>3.0</td>\n",
              "    </tr>\n",
              "    <tr>\n",
              "      <th>4</th>\n",
              "      <td>0.75</td>\n",
              "      <td>1.0</td>\n",
              "      <td>0.0</td>\n",
              "    </tr>\n",
              "    <tr>\n",
              "      <th>5</th>\n",
              "      <td>0.75</td>\n",
              "      <td>1.0</td>\n",
              "      <td>0.0</td>\n",
              "    </tr>\n",
              "  </tbody>\n",
              "</table>\n",
              "</div>"
            ],
            "text/plain": [
              "    hum   cnt  casual\n",
              "1  0.80  40.0     8.0\n",
              "2  0.80  32.0     5.0\n",
              "3  0.75  13.0     3.0\n",
              "4  0.75   1.0     0.0\n",
              "5  0.75   1.0     0.0"
            ]
          },
          "metadata": {
            "tags": []
          },
          "execution_count": 67
        }
      ]
    },
    {
      "cell_type": "code",
      "metadata": {
        "id": "xEud0oweCB38",
        "colab_type": "code",
        "colab": {
          "base_uri": "https://localhost:8080/",
          "height": 85
        },
        "outputId": "5fa84d6a-8ab5-4168-a05b-b00d80c66937"
      },
      "source": [
        "# Para acessar as médias usamos novamente:\n",
        "\n",
        "df_med.mean()"
      ],
      "execution_count": 68,
      "outputs": [
        {
          "output_type": "execute_result",
          "data": {
            "text/plain": [
              "hum         0.627357\n",
              "cnt       189.165850\n",
              "casual     35.416317\n",
              "dtype: float64"
            ]
          },
          "metadata": {
            "tags": []
          },
          "execution_count": 68
        }
      ]
    },
    {
      "cell_type": "code",
      "metadata": {
        "id": "ch10eSYTCJYb",
        "colab_type": "code",
        "colab": {}
      },
      "source": [
        "# Similar a função .dropna, podemos utilizar a função .fillna()\n",
        "# Ela funciona passando dentro do () os valores que queremos substituir os NaN's.\n",
        "# Neste caso passaremos o df_med.mean() que irá colocar a média de cada coluna nos NaN's de cada coluna.\n",
        "# Salvamos novamente a váriavel df_med para aplicar o efeito do fillna.\n",
        "\n",
        "df_med = df_med.fillna(df_med.mean())"
      ],
      "execution_count": 0,
      "outputs": []
    },
    {
      "cell_type": "code",
      "metadata": {
        "id": "r7FX5-N2CjTQ",
        "colab_type": "code",
        "colab": {
          "base_uri": "https://localhost:8080/",
          "height": 85
        },
        "outputId": "fff984e2-a086-40e4-ef72-2eb35b39029f"
      },
      "source": [
        "# Verificamos a quantidade de NaN's:\n",
        "df_med.isna().sum()"
      ],
      "execution_count": 77,
      "outputs": [
        {
          "output_type": "execute_result",
          "data": {
            "text/plain": [
              "hum       0\n",
              "cnt       0\n",
              "casual    0\n",
              "dtype: int64"
            ]
          },
          "metadata": {
            "tags": []
          },
          "execution_count": 77
        }
      ]
    },
    {
      "cell_type": "code",
      "metadata": {
        "id": "Frt-L0hqDbrC",
        "colab_type": "code",
        "colab": {
          "base_uri": "https://localhost:8080/",
          "height": 204
        },
        "outputId": "dea6a6fc-b7aa-4223-e491-586a77b0a7d3"
      },
      "source": [
        "# Para usarmos nosso modelo precisamos separá-lo em X e y:\n",
        "\n",
        "# Váriaveis independentes\n",
        "X = df_med[['hum', 'casual']]\n",
        "\n",
        "# Visualizando\n",
        "X.head()"
      ],
      "execution_count": 81,
      "outputs": [
        {
          "output_type": "execute_result",
          "data": {
            "text/html": [
              "<div>\n",
              "<style scoped>\n",
              "    .dataframe tbody tr th:only-of-type {\n",
              "        vertical-align: middle;\n",
              "    }\n",
              "\n",
              "    .dataframe tbody tr th {\n",
              "        vertical-align: top;\n",
              "    }\n",
              "\n",
              "    .dataframe thead th {\n",
              "        text-align: right;\n",
              "    }\n",
              "</style>\n",
              "<table border=\"1\" class=\"dataframe\">\n",
              "  <thead>\n",
              "    <tr style=\"text-align: right;\">\n",
              "      <th></th>\n",
              "      <th>hum</th>\n",
              "      <th>casual</th>\n",
              "    </tr>\n",
              "  </thead>\n",
              "  <tbody>\n",
              "    <tr>\n",
              "      <th>1</th>\n",
              "      <td>0.80</td>\n",
              "      <td>8.0</td>\n",
              "    </tr>\n",
              "    <tr>\n",
              "      <th>2</th>\n",
              "      <td>0.80</td>\n",
              "      <td>5.0</td>\n",
              "    </tr>\n",
              "    <tr>\n",
              "      <th>3</th>\n",
              "      <td>0.75</td>\n",
              "      <td>3.0</td>\n",
              "    </tr>\n",
              "    <tr>\n",
              "      <th>4</th>\n",
              "      <td>0.75</td>\n",
              "      <td>0.0</td>\n",
              "    </tr>\n",
              "    <tr>\n",
              "      <th>5</th>\n",
              "      <td>0.75</td>\n",
              "      <td>0.0</td>\n",
              "    </tr>\n",
              "  </tbody>\n",
              "</table>\n",
              "</div>"
            ],
            "text/plain": [
              "    hum  casual\n",
              "1  0.80     8.0\n",
              "2  0.80     5.0\n",
              "3  0.75     3.0\n",
              "4  0.75     0.0\n",
              "5  0.75     0.0"
            ]
          },
          "metadata": {
            "tags": []
          },
          "execution_count": 81
        }
      ]
    },
    {
      "cell_type": "code",
      "metadata": {
        "id": "JBWPEKYGDrbQ",
        "colab_type": "code",
        "colab": {
          "base_uri": "https://localhost:8080/",
          "height": 221
        },
        "outputId": "f4eda82f-3171-4502-81e3-7af804f6e4ab"
      },
      "source": [
        "# Váriavel dependente\n",
        "y = df_med['cnt']\n",
        "\n",
        "y"
      ],
      "execution_count": 95,
      "outputs": [
        {
          "output_type": "execute_result",
          "data": {
            "text/plain": [
              "1         40.0\n",
              "2         32.0\n",
              "3         13.0\n",
              "4          1.0\n",
              "5          1.0\n",
              "         ...  \n",
              "17373    122.0\n",
              "17374    119.0\n",
              "17375     89.0\n",
              "17377     61.0\n",
              "17378     49.0\n",
              "Name: cnt, Length: 15641, dtype: float64"
            ]
          },
          "metadata": {
            "tags": []
          },
          "execution_count": 95
        }
      ]
    },
    {
      "cell_type": "code",
      "metadata": {
        "id": "9dgc_17xClTk",
        "colab_type": "code",
        "colab": {}
      },
      "source": [
        "# Temos então nosso novo dataframe com as variaveis imputadas.\n",
        "# Iremos então chamar a biblioteca para implementação da regressão linear\n",
        "# Para todos os algoritmos de ML o funcionamento se dará nos seguintes passos:\n",
        "\n",
        "# 1. Importação da Biblioteca\n",
        "# 2. Instanciando o modelo\n",
        "# 3. Fitando o modelo (criação do modelo)\n",
        "# 4. Predição de novos valores\n",
        "# 5. Avaliação com diferentes métricas"
      ],
      "execution_count": 0,
      "outputs": []
    },
    {
      "cell_type": "code",
      "metadata": {
        "id": "NPm6XKHkDYvu",
        "colab_type": "code",
        "colab": {}
      },
      "source": [
        "# Seguindo os passos acima:"
      ],
      "execution_count": 0,
      "outputs": []
    },
    {
      "cell_type": "code",
      "metadata": {
        "id": "YBVbviO-DzLT",
        "colab_type": "code",
        "colab": {
          "base_uri": "https://localhost:8080/",
          "height": 34
        },
        "outputId": "a77cc234-af8a-4178-a4ee-56e59bfdfc9a"
      },
      "source": [
        "# 1. Importação da Biblioteca\n",
        "\n",
        "from sklearn.linear_model import LinearRegression\n",
        "\n",
        "# 2. Instanciando o modelo\n",
        "\n",
        "linreg = LinearRegression() \n",
        "# Aqui poderiamos setar os parametros caso fosse necessário\n",
        "# Neste caso vamos apenas utilizar o modelo padrão\n",
        "\n",
        "# 3. Fitando o modelo (criação do modelo)\n",
        "\n",
        "linreg.fit(X,y) \n",
        "# Aqui o modelo foi criado, os cálculos de diminuição de função erro,\n",
        "# Gradiente, e demais ''mágicas'' da matematica foram todas feitas por trás\n",
        "# do código. A partir disto podemos utilizá-lo para prever novos valores.\n",
        "# Abaixo aparecerá os parametros que foram setados automaticamente:"
      ],
      "execution_count": 85,
      "outputs": [
        {
          "output_type": "execute_result",
          "data": {
            "text/plain": [
              "LinearRegression(copy_X=True, fit_intercept=True, n_jobs=None, normalize=False)"
            ]
          },
          "metadata": {
            "tags": []
          },
          "execution_count": 85
        }
      ]
    },
    {
      "cell_type": "code",
      "metadata": {
        "id": "n4uZAwPkEXwA",
        "colab_type": "code",
        "colab": {
          "base_uri": "https://localhost:8080/",
          "height": 51
        },
        "outputId": "c5d7d538-e5ba-4912-8d60-c6337fb5b862"
      },
      "source": [
        "# 4. Predição de novos valores\n",
        "\n",
        "linreg.predict(X)\n",
        "\n",
        "# Aqui geramos resultados do nosso modelo prevendo os valores do próprio X.\n",
        "# Se tivessemos um X novo poderia utiliza-lo aqui!"
      ],
      "execution_count": 87,
      "outputs": [
        {
          "output_type": "execute_result",
          "data": {
            "text/plain": [
              "array([111.21425222, 104.5688863 , 105.12614851, ..., 191.89476367,\n",
              "       146.22989168, 135.03725861])"
            ]
          },
          "metadata": {
            "tags": []
          },
          "execution_count": 87
        }
      ]
    },
    {
      "cell_type": "code",
      "metadata": {
        "id": "q-F_0IbxEiXK",
        "colab_type": "code",
        "colab": {
          "base_uri": "https://localhost:8080/",
          "height": 34
        },
        "outputId": "4f1ddfdc-1d89-4520-e1f9-bc1333f53565"
      },
      "source": [
        "# 5. Avaliação com diferentes métricas\n",
        "# Aqui avaliamos com diferentes métricas a acurácia do modelo.\n",
        "# No exercicio foi pedido o R2.\n",
        "\n",
        "from sklearn.metrics import r2_score\n",
        "\n",
        "# Queremos salvar o valor predito, então rodamos novamente:\n",
        "\n",
        "ypred = linreg.predict(X)\n",
        "\n",
        "# r2_score (assim como outras métricas), funciona no seguinte formato:\n",
        "# função_métrica(yreal,ypredito)\n",
        "r2_score(y,ypred)"
      ],
      "execution_count": 88,
      "outputs": [
        {
          "output_type": "execute_result",
          "data": {
            "text/plain": [
              "0.4059859251122173"
            ]
          },
          "metadata": {
            "tags": []
          },
          "execution_count": 88
        }
      ]
    },
    {
      "cell_type": "code",
      "metadata": {
        "id": "AWAVQlpgFJjC",
        "colab_type": "code",
        "colab": {
          "base_uri": "https://localhost:8080/",
          "height": 34
        },
        "outputId": "3d5e1ef6-9270-4c24-fbbc-0998955852f3"
      },
      "source": [
        "# Após esta explicação acima podemos aplicar o mesmo passo a passo para responder a \n",
        "# questão da árvore de decisão:\n",
        "\n",
        "# Questão:\n",
        "# Utilize os mesmos dados da questão anterior (\"hum\" e \"casual\" como variáveis independentes e \"cnt\" como variavel dependente). \n",
        "# Aplique a árvore de decisão como regressão. \n",
        "# Qual é o valor aproximado de R2? Utilize as entradas como teste e valores \"default\".\n",
        "\n",
        "# 1. Importação da Biblioteca\n",
        "\n",
        "from sklearn.tree import DecisionTreeRegressor\n",
        "\n",
        "# 2. Instanciando o modelo\n",
        "\n",
        "dtr = DecisionTreeRegressor()\n",
        "\n",
        "# 3. Fitando o modelo (criação do modelo)\n",
        "\n",
        "dtr.fit(X,y)\n",
        "\n",
        "# 4. Predição de novos valores\n",
        "\n",
        "ypred2 = dtr.predict(X)\n",
        "\n",
        "# 5. Avaliação com diferentes métricas\n",
        "\n",
        "r2_score(y,ypred2)"
      ],
      "execution_count": 91,
      "outputs": [
        {
          "output_type": "execute_result",
          "data": {
            "text/plain": [
              "0.7098339715834964"
            ]
          },
          "metadata": {
            "tags": []
          },
          "execution_count": 91
        }
      ]
    },
    {
      "cell_type": "code",
      "metadata": {
        "id": "cMBs9Fb3GAaz",
        "colab_type": "code",
        "colab": {}
      },
      "source": [
        "# Notamos acima que o processo de implementação de ambos os algoritmos é exatamente o mesmo.\n",
        "# Outros algoritmos também seguem o mesmo passo (ou praticamente o mesmo).\n",
        "# A mudança entre eles seria os hiperparametros que passariamos no momento que instanciamos eles.\n",
        "# Nas questões propostas a instrução foi utilizar default, portanto não passamos nenhum valor para eles."
      ],
      "execution_count": 0,
      "outputs": []
    },
    {
      "cell_type": "code",
      "metadata": {
        "id": "en2YtqQTGyoD",
        "colab_type": "code",
        "colab": {
          "base_uri": "https://localhost:8080/",
          "height": 51
        },
        "outputId": "05c97fe2-ef8c-4441-8958-614399d708c9"
      },
      "source": [
        "# Questão:\n",
        "\n",
        "# Comparando os valores de R2 encontrado com a regressão linear e com a árvore de decisão, é CORRETO afirmar:\n",
        "# Podemos ver nos exercicios anteriores, mas vamos mostrá-los novamente:\n",
        "\n",
        "print('R2 da regressão linear: ', r2_score (y,ypred))\n",
        "print('R2 da árvore de decisão: ', r2_score (y,ypred2))"
      ],
      "execution_count": 94,
      "outputs": [
        {
          "output_type": "stream",
          "text": [
            "R2 da regressão linear:  0.4059859251122173\n",
            "R2 da árvore de decisão:  0.7098339715834964\n"
          ],
          "name": "stdout"
        }
      ]
    },
    {
      "cell_type": "code",
      "metadata": {
        "id": "Tc1qa2XTHP0N",
        "colab_type": "code",
        "colab": {}
      },
      "source": [
        ""
      ],
      "execution_count": 0,
      "outputs": []
    }
  ]
}
