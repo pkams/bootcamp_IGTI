{
 "cells": [
  {
   "cell_type": "code",
   "execution_count": 1,
   "metadata": {},
   "outputs": [],
   "source": [
    "import pandas as pd\n",
    "import numpy as np\n",
    "import matplotlib.pyplot as plt\n",
    "import seaborn as sns\n",
    "import datetime"
   ]
  },
  {
   "cell_type": "code",
   "execution_count": 3,
   "metadata": {},
   "outputs": [],
   "source": [
    "df_poluicao_beijing = pd.read_csv('PRSA_data_2010.1.1-2014.12.31.csv')"
   ]
  },
  {
   "cell_type": "code",
   "execution_count": 4,
   "metadata": {},
   "outputs": [
    {
     "data": {
      "text/html": [
       "<div>\n",
       "<style scoped>\n",
       "    .dataframe tbody tr th:only-of-type {\n",
       "        vertical-align: middle;\n",
       "    }\n",
       "\n",
       "    .dataframe tbody tr th {\n",
       "        vertical-align: top;\n",
       "    }\n",
       "\n",
       "    .dataframe thead th {\n",
       "        text-align: right;\n",
       "    }\n",
       "</style>\n",
       "<table border=\"1\" class=\"dataframe\">\n",
       "  <thead>\n",
       "    <tr style=\"text-align: right;\">\n",
       "      <th></th>\n",
       "      <th>No</th>\n",
       "      <th>year</th>\n",
       "      <th>month</th>\n",
       "      <th>day</th>\n",
       "      <th>hour</th>\n",
       "      <th>pm2.5</th>\n",
       "      <th>DEWP</th>\n",
       "      <th>TEMP</th>\n",
       "      <th>PRES</th>\n",
       "      <th>cbwd</th>\n",
       "      <th>Iws</th>\n",
       "      <th>Is</th>\n",
       "      <th>Ir</th>\n",
       "    </tr>\n",
       "  </thead>\n",
       "  <tbody>\n",
       "    <tr>\n",
       "      <th>0</th>\n",
       "      <td>1</td>\n",
       "      <td>2010</td>\n",
       "      <td>1</td>\n",
       "      <td>1</td>\n",
       "      <td>0</td>\n",
       "      <td>NaN</td>\n",
       "      <td>-21</td>\n",
       "      <td>-11.0</td>\n",
       "      <td>1021.0</td>\n",
       "      <td>NW</td>\n",
       "      <td>1.79</td>\n",
       "      <td>0</td>\n",
       "      <td>0</td>\n",
       "    </tr>\n",
       "    <tr>\n",
       "      <th>1</th>\n",
       "      <td>2</td>\n",
       "      <td>2010</td>\n",
       "      <td>1</td>\n",
       "      <td>1</td>\n",
       "      <td>1</td>\n",
       "      <td>NaN</td>\n",
       "      <td>-21</td>\n",
       "      <td>-12.0</td>\n",
       "      <td>1020.0</td>\n",
       "      <td>NW</td>\n",
       "      <td>4.92</td>\n",
       "      <td>0</td>\n",
       "      <td>0</td>\n",
       "    </tr>\n",
       "    <tr>\n",
       "      <th>2</th>\n",
       "      <td>3</td>\n",
       "      <td>2010</td>\n",
       "      <td>1</td>\n",
       "      <td>1</td>\n",
       "      <td>2</td>\n",
       "      <td>NaN</td>\n",
       "      <td>-21</td>\n",
       "      <td>-11.0</td>\n",
       "      <td>1019.0</td>\n",
       "      <td>NW</td>\n",
       "      <td>6.71</td>\n",
       "      <td>0</td>\n",
       "      <td>0</td>\n",
       "    </tr>\n",
       "    <tr>\n",
       "      <th>3</th>\n",
       "      <td>4</td>\n",
       "      <td>2010</td>\n",
       "      <td>1</td>\n",
       "      <td>1</td>\n",
       "      <td>3</td>\n",
       "      <td>NaN</td>\n",
       "      <td>-21</td>\n",
       "      <td>-14.0</td>\n",
       "      <td>1019.0</td>\n",
       "      <td>NW</td>\n",
       "      <td>9.84</td>\n",
       "      <td>0</td>\n",
       "      <td>0</td>\n",
       "    </tr>\n",
       "    <tr>\n",
       "      <th>4</th>\n",
       "      <td>5</td>\n",
       "      <td>2010</td>\n",
       "      <td>1</td>\n",
       "      <td>1</td>\n",
       "      <td>4</td>\n",
       "      <td>NaN</td>\n",
       "      <td>-20</td>\n",
       "      <td>-12.0</td>\n",
       "      <td>1018.0</td>\n",
       "      <td>NW</td>\n",
       "      <td>12.97</td>\n",
       "      <td>0</td>\n",
       "      <td>0</td>\n",
       "    </tr>\n",
       "  </tbody>\n",
       "</table>\n",
       "</div>"
      ],
      "text/plain": [
       "   No  year  month  day  hour  pm2.5  DEWP  TEMP    PRES cbwd    Iws  Is  Ir\n",
       "0   1  2010      1    1     0    NaN   -21 -11.0  1021.0   NW   1.79   0   0\n",
       "1   2  2010      1    1     1    NaN   -21 -12.0  1020.0   NW   4.92   0   0\n",
       "2   3  2010      1    1     2    NaN   -21 -11.0  1019.0   NW   6.71   0   0\n",
       "3   4  2010      1    1     3    NaN   -21 -14.0  1019.0   NW   9.84   0   0\n",
       "4   5  2010      1    1     4    NaN   -20 -12.0  1018.0   NW  12.97   0   0"
      ]
     },
     "execution_count": 4,
     "metadata": {},
     "output_type": "execute_result"
    }
   ],
   "source": [
    "df_poluicao_beijing.head()"
   ]
  },
  {
   "cell_type": "code",
   "execution_count": 5,
   "metadata": {},
   "outputs": [
    {
     "data": {
      "text/plain": [
       "(43824, 13)"
      ]
     },
     "execution_count": 5,
     "metadata": {},
     "output_type": "execute_result"
    }
   ],
   "source": [
    "df_poluicao_beijing.shape"
   ]
  },
  {
   "cell_type": "code",
   "execution_count": 7,
   "metadata": {},
   "outputs": [
    {
     "name": "stdout",
     "output_type": "stream",
     "text": [
      "<class 'pandas.core.frame.DataFrame'>\n",
      "RangeIndex: 43824 entries, 0 to 43823\n",
      "Data columns (total 13 columns):\n",
      " #   Column  Non-Null Count  Dtype  \n",
      "---  ------  --------------  -----  \n",
      " 0   No      43824 non-null  int64  \n",
      " 1   year    43824 non-null  int64  \n",
      " 2   month   43824 non-null  int64  \n",
      " 3   day     43824 non-null  int64  \n",
      " 4   hour    43824 non-null  int64  \n",
      " 5   pm2.5   41757 non-null  float64\n",
      " 6   DEWP    43824 non-null  int64  \n",
      " 7   TEMP    43824 non-null  float64\n",
      " 8   PRES    43824 non-null  float64\n",
      " 9   cbwd    43824 non-null  object \n",
      " 10  Iws     43824 non-null  float64\n",
      " 11  Is      43824 non-null  int64  \n",
      " 12  Ir      43824 non-null  int64  \n",
      "dtypes: float64(4), int64(8), object(1)\n",
      "memory usage: 4.3+ MB\n"
     ]
    }
   ],
   "source": [
    "df_poluicao_beijing.info()"
   ]
  },
  {
   "cell_type": "code",
   "execution_count": 8,
   "metadata": {},
   "outputs": [
    {
     "data": {
      "text/plain": [
       "No          0\n",
       "year        0\n",
       "month       0\n",
       "day         0\n",
       "hour        0\n",
       "pm2.5    2067\n",
       "DEWP        0\n",
       "TEMP        0\n",
       "PRES        0\n",
       "cbwd        0\n",
       "Iws         0\n",
       "Is          0\n",
       "Ir          0\n",
       "dtype: int64"
      ]
     },
     "execution_count": 8,
     "metadata": {},
     "output_type": "execute_result"
    }
   ],
   "source": [
    "df_poluicao_beijing.isnull().sum()"
   ]
  },
  {
   "cell_type": "code",
   "execution_count": 12,
   "metadata": {},
   "outputs": [],
   "source": [
    "# Obtendo os dados em formato de datetime\n",
    "df_poluicao_beijing['datetime'] = df_poluicao_beijing[['year','month','day','hour']].apply(lambda row: datetime.datetime(year=row['year'], month=row['month'], day=row['day'], hour=row['hour']), axis = 1)"
   ]
  },
  {
   "cell_type": "code",
   "execution_count": 13,
   "metadata": {},
   "outputs": [
    {
     "data": {
      "text/html": [
       "<div>\n",
       "<style scoped>\n",
       "    .dataframe tbody tr th:only-of-type {\n",
       "        vertical-align: middle;\n",
       "    }\n",
       "\n",
       "    .dataframe tbody tr th {\n",
       "        vertical-align: top;\n",
       "    }\n",
       "\n",
       "    .dataframe thead th {\n",
       "        text-align: right;\n",
       "    }\n",
       "</style>\n",
       "<table border=\"1\" class=\"dataframe\">\n",
       "  <thead>\n",
       "    <tr style=\"text-align: right;\">\n",
       "      <th></th>\n",
       "      <th>No</th>\n",
       "      <th>year</th>\n",
       "      <th>month</th>\n",
       "      <th>day</th>\n",
       "      <th>hour</th>\n",
       "      <th>pm2.5</th>\n",
       "      <th>DEWP</th>\n",
       "      <th>TEMP</th>\n",
       "      <th>PRES</th>\n",
       "      <th>cbwd</th>\n",
       "      <th>Iws</th>\n",
       "      <th>Is</th>\n",
       "      <th>Ir</th>\n",
       "      <th>datetime</th>\n",
       "    </tr>\n",
       "  </thead>\n",
       "  <tbody>\n",
       "    <tr>\n",
       "      <th>0</th>\n",
       "      <td>1</td>\n",
       "      <td>2010</td>\n",
       "      <td>1</td>\n",
       "      <td>1</td>\n",
       "      <td>0</td>\n",
       "      <td>NaN</td>\n",
       "      <td>-21</td>\n",
       "      <td>-11.0</td>\n",
       "      <td>1021.0</td>\n",
       "      <td>NW</td>\n",
       "      <td>1.79</td>\n",
       "      <td>0</td>\n",
       "      <td>0</td>\n",
       "      <td>2010-01-01 00:00:00</td>\n",
       "    </tr>\n",
       "    <tr>\n",
       "      <th>1</th>\n",
       "      <td>2</td>\n",
       "      <td>2010</td>\n",
       "      <td>1</td>\n",
       "      <td>1</td>\n",
       "      <td>1</td>\n",
       "      <td>NaN</td>\n",
       "      <td>-21</td>\n",
       "      <td>-12.0</td>\n",
       "      <td>1020.0</td>\n",
       "      <td>NW</td>\n",
       "      <td>4.92</td>\n",
       "      <td>0</td>\n",
       "      <td>0</td>\n",
       "      <td>2010-01-01 01:00:00</td>\n",
       "    </tr>\n",
       "    <tr>\n",
       "      <th>2</th>\n",
       "      <td>3</td>\n",
       "      <td>2010</td>\n",
       "      <td>1</td>\n",
       "      <td>1</td>\n",
       "      <td>2</td>\n",
       "      <td>NaN</td>\n",
       "      <td>-21</td>\n",
       "      <td>-11.0</td>\n",
       "      <td>1019.0</td>\n",
       "      <td>NW</td>\n",
       "      <td>6.71</td>\n",
       "      <td>0</td>\n",
       "      <td>0</td>\n",
       "      <td>2010-01-01 02:00:00</td>\n",
       "    </tr>\n",
       "    <tr>\n",
       "      <th>3</th>\n",
       "      <td>4</td>\n",
       "      <td>2010</td>\n",
       "      <td>1</td>\n",
       "      <td>1</td>\n",
       "      <td>3</td>\n",
       "      <td>NaN</td>\n",
       "      <td>-21</td>\n",
       "      <td>-14.0</td>\n",
       "      <td>1019.0</td>\n",
       "      <td>NW</td>\n",
       "      <td>9.84</td>\n",
       "      <td>0</td>\n",
       "      <td>0</td>\n",
       "      <td>2010-01-01 03:00:00</td>\n",
       "    </tr>\n",
       "    <tr>\n",
       "      <th>4</th>\n",
       "      <td>5</td>\n",
       "      <td>2010</td>\n",
       "      <td>1</td>\n",
       "      <td>1</td>\n",
       "      <td>4</td>\n",
       "      <td>NaN</td>\n",
       "      <td>-20</td>\n",
       "      <td>-12.0</td>\n",
       "      <td>1018.0</td>\n",
       "      <td>NW</td>\n",
       "      <td>12.97</td>\n",
       "      <td>0</td>\n",
       "      <td>0</td>\n",
       "      <td>2010-01-01 04:00:00</td>\n",
       "    </tr>\n",
       "  </tbody>\n",
       "</table>\n",
       "</div>"
      ],
      "text/plain": [
       "   No  year  month  day  hour  pm2.5  DEWP  TEMP    PRES cbwd    Iws  Is  Ir  \\\n",
       "0   1  2010      1    1     0    NaN   -21 -11.0  1021.0   NW   1.79   0   0   \n",
       "1   2  2010      1    1     1    NaN   -21 -12.0  1020.0   NW   4.92   0   0   \n",
       "2   3  2010      1    1     2    NaN   -21 -11.0  1019.0   NW   6.71   0   0   \n",
       "3   4  2010      1    1     3    NaN   -21 -14.0  1019.0   NW   9.84   0   0   \n",
       "4   5  2010      1    1     4    NaN   -20 -12.0  1018.0   NW  12.97   0   0   \n",
       "\n",
       "             datetime  \n",
       "0 2010-01-01 00:00:00  \n",
       "1 2010-01-01 01:00:00  \n",
       "2 2010-01-01 02:00:00  \n",
       "3 2010-01-01 03:00:00  \n",
       "4 2010-01-01 04:00:00  "
      ]
     },
     "execution_count": 13,
     "metadata": {},
     "output_type": "execute_result"
    }
   ],
   "source": [
    "df_poluicao_beijing.head()"
   ]
  },
  {
   "cell_type": "code",
   "execution_count": 14,
   "metadata": {},
   "outputs": [
    {
     "name": "stdout",
     "output_type": "stream",
     "text": [
      "Data inicial:  2010-01-01 00:00:00\n",
      "Data final:  2014-12-31 23:00:00\n"
     ]
    }
   ],
   "source": [
    "# Datas máximas e minimas do dataset\n",
    "print('Data inicial: ', df_poluicao_beijing['datetime'].min())\n",
    "print('Data final: ', df_poluicao_beijing['datetime'].max())"
   ]
  },
  {
   "cell_type": "code",
   "execution_count": 19,
   "metadata": {},
   "outputs": [
    {
     "data": {
      "text/html": [
       "<div>\n",
       "<style scoped>\n",
       "    .dataframe tbody tr th:only-of-type {\n",
       "        vertical-align: middle;\n",
       "    }\n",
       "\n",
       "    .dataframe tbody tr th {\n",
       "        vertical-align: top;\n",
       "    }\n",
       "\n",
       "    .dataframe thead th {\n",
       "        text-align: right;\n",
       "    }\n",
       "</style>\n",
       "<table border=\"1\" class=\"dataframe\">\n",
       "  <thead>\n",
       "    <tr style=\"text-align: right;\">\n",
       "      <th></th>\n",
       "      <th>datetime</th>\n",
       "      <th>PRES</th>\n",
       "    </tr>\n",
       "  </thead>\n",
       "  <tbody>\n",
       "    <tr>\n",
       "      <th>0</th>\n",
       "      <td>2010-01-01 00:00:00</td>\n",
       "      <td>1021.0</td>\n",
       "    </tr>\n",
       "    <tr>\n",
       "      <th>1</th>\n",
       "      <td>2010-01-01 01:00:00</td>\n",
       "      <td>1020.0</td>\n",
       "    </tr>\n",
       "    <tr>\n",
       "      <th>2</th>\n",
       "      <td>2010-01-01 02:00:00</td>\n",
       "      <td>1019.0</td>\n",
       "    </tr>\n",
       "    <tr>\n",
       "      <th>3</th>\n",
       "      <td>2010-01-01 03:00:00</td>\n",
       "      <td>1019.0</td>\n",
       "    </tr>\n",
       "    <tr>\n",
       "      <th>4</th>\n",
       "      <td>2010-01-01 04:00:00</td>\n",
       "      <td>1018.0</td>\n",
       "    </tr>\n",
       "  </tbody>\n",
       "</table>\n",
       "</div>"
      ],
      "text/plain": [
       "             datetime    PRES\n",
       "0 2010-01-01 00:00:00  1021.0\n",
       "1 2010-01-01 01:00:00  1020.0\n",
       "2 2010-01-01 02:00:00  1019.0\n",
       "3 2010-01-01 03:00:00  1019.0\n",
       "4 2010-01-01 04:00:00  1018.0"
      ]
     },
     "execution_count": 19,
     "metadata": {},
     "output_type": "execute_result"
    }
   ],
   "source": [
    "df_pressao_atmosferica = df_poluicao_beijing[['datetime', 'PRES']].copy()\n",
    "df_pressao_atmosferica.head()"
   ]
  },
  {
   "cell_type": "code",
   "execution_count": 22,
   "metadata": {},
   "outputs": [],
   "source": [
    "# Garantindo que dados vão estar ordenados\n",
    "df_pressao_atmosferica.sort_values('datetime',ascending=True, inplace=True)"
   ]
  },
  {
   "cell_type": "code",
   "execution_count": 23,
   "metadata": {},
   "outputs": [
    {
     "data": {
      "text/html": [
       "<div>\n",
       "<style scoped>\n",
       "    .dataframe tbody tr th:only-of-type {\n",
       "        vertical-align: middle;\n",
       "    }\n",
       "\n",
       "    .dataframe tbody tr th {\n",
       "        vertical-align: top;\n",
       "    }\n",
       "\n",
       "    .dataframe thead th {\n",
       "        text-align: right;\n",
       "    }\n",
       "</style>\n",
       "<table border=\"1\" class=\"dataframe\">\n",
       "  <thead>\n",
       "    <tr style=\"text-align: right;\">\n",
       "      <th></th>\n",
       "      <th>datetime</th>\n",
       "      <th>PRES</th>\n",
       "    </tr>\n",
       "  </thead>\n",
       "  <tbody>\n",
       "    <tr>\n",
       "      <th>0</th>\n",
       "      <td>2010-01-01 00:00:00</td>\n",
       "      <td>1021.0</td>\n",
       "    </tr>\n",
       "    <tr>\n",
       "      <th>1</th>\n",
       "      <td>2010-01-01 01:00:00</td>\n",
       "      <td>1020.0</td>\n",
       "    </tr>\n",
       "    <tr>\n",
       "      <th>2</th>\n",
       "      <td>2010-01-01 02:00:00</td>\n",
       "      <td>1019.0</td>\n",
       "    </tr>\n",
       "    <tr>\n",
       "      <th>3</th>\n",
       "      <td>2010-01-01 03:00:00</td>\n",
       "      <td>1019.0</td>\n",
       "    </tr>\n",
       "    <tr>\n",
       "      <th>4</th>\n",
       "      <td>2010-01-01 04:00:00</td>\n",
       "      <td>1018.0</td>\n",
       "    </tr>\n",
       "  </tbody>\n",
       "</table>\n",
       "</div>"
      ],
      "text/plain": [
       "             datetime    PRES\n",
       "0 2010-01-01 00:00:00  1021.0\n",
       "1 2010-01-01 01:00:00  1020.0\n",
       "2 2010-01-01 02:00:00  1019.0\n",
       "3 2010-01-01 03:00:00  1019.0\n",
       "4 2010-01-01 04:00:00  1018.0"
      ]
     },
     "execution_count": 23,
     "metadata": {},
     "output_type": "execute_result"
    }
   ],
   "source": [
    "df_pressao_atmosferica.head()"
   ]
  },
  {
   "cell_type": "code",
   "execution_count": 24,
   "metadata": {},
   "outputs": [
    {
     "data": {
      "text/plain": [
       "Text(0.5, 1.0, 'Box Plot para Pressão Atmosférica')"
      ]
     },
     "execution_count": 24,
     "metadata": {},
     "output_type": "execute_result"
    },
    {
     "data": {
      "image/png": "[encoded data removed]",
      "text/plain": [
       "<Figure size 504x504 with 1 Axes>"
      ]
     },
     "metadata": {
      "needs_background": "light"
     },
     "output_type": "display_data"
    }
   ],
   "source": [
    "# Verificando outliers\n",
    "plt.figure(figsize=(7,7))\n",
    "g = sns.boxplot(df_pressao_atmosferica['PRES'])\n",
    "g.set_title('Box Plot para Pressão Atmosférica')"
   ]
  },
  {
   "cell_type": "code",
   "execution_count": 25,
   "metadata": {},
   "outputs": [
    {
     "data": {
      "text/plain": [
       "Text(0, 0.5, 'Pressão atmosférica em hPa')"
      ]
     },
     "execution_count": 25,
     "metadata": {},
     "output_type": "execute_result"
    },
    {
     "data": {
      "image/png": "[encoded data removed]",
      "text/plain": [
       "<Figure size 504x504 with 1 Axes>"
      ]
     },
     "metadata": {
      "needs_background": "light"
     },
     "output_type": "display_data"
    }
   ],
   "source": [
    "# Plotando dados para pressão atmosférica\n",
    "plt.figure(figsize=(7,7))\n",
    "g = sns.lineplot(x=df_pressao_atmosferica.index, y = df_pressao_atmosferica['PRES'])\n",
    "g.set_title('Série temporal para pressão atmosférica')\n",
    "g.set_xlabel('Indice do dataset')\n",
    "g.set_ylabel('Pressão atmosférica em hPa')"
   ]
  },
  {
   "cell_type": "code",
   "execution_count": 31,
   "metadata": {},
   "outputs": [],
   "source": [
    "# Preparando dados para serem utilizados no modelo de previsão via MLP\n",
    "\n",
    "from sklearn.preprocessing import MinMaxScaler\n",
    "scaler = MinMaxScaler(feature_range=(0,1))\n",
    "df_pressao_atmosferica['PRES_normalizado'] = scaler.fit_transform(np.array(df_pressao_atmosferica['PRES']).reshape(-1,1))"
   ]
  },
  {
   "cell_type": "code",
   "execution_count": 32,
   "metadata": {},
   "outputs": [
    {
     "data": {
      "text/html": [
       "<div>\n",
       "<style scoped>\n",
       "    .dataframe tbody tr th:only-of-type {\n",
       "        vertical-align: middle;\n",
       "    }\n",
       "\n",
       "    .dataframe tbody tr th {\n",
       "        vertical-align: top;\n",
       "    }\n",
       "\n",
       "    .dataframe thead th {\n",
       "        text-align: right;\n",
       "    }\n",
       "</style>\n",
       "<table border=\"1\" class=\"dataframe\">\n",
       "  <thead>\n",
       "    <tr style=\"text-align: right;\">\n",
       "      <th></th>\n",
       "      <th>datetime</th>\n",
       "      <th>PRES</th>\n",
       "      <th>PRES_normalizado</th>\n",
       "    </tr>\n",
       "  </thead>\n",
       "  <tbody>\n",
       "    <tr>\n",
       "      <th>0</th>\n",
       "      <td>2010-01-01 00:00:00</td>\n",
       "      <td>1021.0</td>\n",
       "      <td>0.545455</td>\n",
       "    </tr>\n",
       "    <tr>\n",
       "      <th>1</th>\n",
       "      <td>2010-01-01 01:00:00</td>\n",
       "      <td>1020.0</td>\n",
       "      <td>0.527273</td>\n",
       "    </tr>\n",
       "    <tr>\n",
       "      <th>2</th>\n",
       "      <td>2010-01-01 02:00:00</td>\n",
       "      <td>1019.0</td>\n",
       "      <td>0.509091</td>\n",
       "    </tr>\n",
       "    <tr>\n",
       "      <th>3</th>\n",
       "      <td>2010-01-01 03:00:00</td>\n",
       "      <td>1019.0</td>\n",
       "      <td>0.509091</td>\n",
       "    </tr>\n",
       "    <tr>\n",
       "      <th>4</th>\n",
       "      <td>2010-01-01 04:00:00</td>\n",
       "      <td>1018.0</td>\n",
       "      <td>0.490909</td>\n",
       "    </tr>\n",
       "  </tbody>\n",
       "</table>\n",
       "</div>"
      ],
      "text/plain": [
       "             datetime    PRES  PRES_normalizado\n",
       "0 2010-01-01 00:00:00  1021.0          0.545455\n",
       "1 2010-01-01 01:00:00  1020.0          0.527273\n",
       "2 2010-01-01 02:00:00  1019.0          0.509091\n",
       "3 2010-01-01 03:00:00  1019.0          0.509091\n",
       "4 2010-01-01 04:00:00  1018.0          0.490909"
      ]
     },
     "execution_count": 32,
     "metadata": {},
     "output_type": "execute_result"
    }
   ],
   "source": [
    "df_pressao_atmosferica.head()"
   ]
  },
  {
   "cell_type": "code",
   "execution_count": 34,
   "metadata": {},
   "outputs": [
    {
     "name": "stdout",
     "output_type": "stream",
     "text": [
      "Quantidade de dados para treinamento:  (35064, 3)\n",
      "Quantidade de dados para teste:  (8760, 3)\n"
     ]
    }
   ],
   "source": [
    "# Dividindo em dados de treino e teste\n",
    "data_de_corte = datetime.datetime(year=2014, month=1, day=1, hour=0) \n",
    "# definindo data de corte: 01/01/2014\n",
    "df_treinamento = df_pressao_atmosferica.loc[df_pressao_atmosferica['datetime']<data_de_corte]\n",
    "df_teste  = df_pressao_atmosferica.loc[df_pressao_atmosferica['datetime']>= data_de_corte]\n",
    "print('Quantidade de dados para treinamento: ', df_treinamento.shape)\n",
    "print('Quantidade de dados para teste: ', df_teste.shape)\n"
   ]
  },
  {
   "cell_type": "code",
   "execution_count": 35,
   "metadata": {},
   "outputs": [
    {
     "data": {
      "text/plain": [
       "Text(0, 0.5, 'Leituras normalizadas')"
      ]
     },
     "execution_count": 35,
     "metadata": {},
     "output_type": "execute_result"
    },
    {
     "data": {
      "image/png": "[encoded data removed]",
      "text/plain": [
       "<Figure size 504x504 with 1 Axes>"
      ]
     },
     "metadata": {
      "needs_background": "light"
     },
     "output_type": "display_data"
    }
   ],
   "source": [
    "# Verificando a cara dos dados de treino\n",
    "plt.figure(figsize=(7,7))\n",
    "g = sns.lineplot(x=df_treinamento.index, y=df_treinamento['PRES_normalizado'], color='b')\n",
    "g.set_title('Série temporal da pressão normalizada no treinamento do modelo')\n",
    "g.set_xlabel('Indices')\n",
    "g.set_ylabel('Leituras normalizadas')"
   ]
  },
  {
   "cell_type": "code",
   "execution_count": 36,
   "metadata": {},
   "outputs": [
    {
     "data": {
      "text/plain": [
       "Text(0, 0.5, 'Leituras normalizadas')"
      ]
     },
     "execution_count": 36,
     "metadata": {},
     "output_type": "execute_result"
    },
    {
     "data": {
      "image/png": "[encoded data removed]",
      "text/plain": [
       "<Figure size 504x504 with 1 Axes>"
      ]
     },
     "metadata": {
      "needs_background": "light"
     },
     "output_type": "display_data"
    }
   ],
   "source": [
    "# Verificando a cara dos dados de teste\n",
    "plt.figure(figsize=(7,7))\n",
    "g = sns.lineplot(x=df_teste.index, y=df_teste['PRES_normalizado'], color='r')\n",
    "g.set_title('Série temporal da pressão normalizada no teste do modelo')\n",
    "g.set_xlabel('Indices')\n",
    "g.set_ylabel('Leituras normalizadas')"
   ]
  },
  {
   "cell_type": "code",
   "execution_count": 41,
   "metadata": {},
   "outputs": [],
   "source": [
    "# Definindo o número de valores a serem utilizados para previsão\n",
    "def formata_entrada_saida(serie_temporal_original, numero_de_passos):\n",
    "    X = []\n",
    "    y = []\n",
    "    for i in range(numero_de_passos, serie_temporal_original.shape[0]):\n",
    "        X.append(list(serie_temporal_original.loc[i-numero_de_passos:i-1]))\n",
    "        y.append(serie_temporal_original.loc[i])\n",
    "        # faz i de 10 até num de linhas do dataframe\n",
    "        # Começando do 10 valor = pega os 9 anteriores como X \n",
    "        # Repete isso para todos.\n",
    "    X,y = np.array(X), np.array(y)\n",
    "    return X,y\n",
    "    "
   ]
  },
  {
   "cell_type": "code",
   "execution_count": 44,
   "metadata": {},
   "outputs": [
    {
     "name": "stdout",
     "output_type": "stream",
     "text": [
      "Formato dos dados: (35054, 10) (35054,)\n"
     ]
    }
   ],
   "source": [
    "# formata dados para o treinamento do modelo\n",
    "X_train, y_train = formata_entrada_saida(df_treinamento['PRES_normalizado'], 10)\n",
    "print('Formato dos dados:', X_train.shape, y_train.shape)\n",
    "\n",
    "# O passos 10 não foi feito usando autocorrelação, foi arbitrario"
   ]
  },
  {
   "cell_type": "code",
   "execution_count": 45,
   "metadata": {},
   "outputs": [
    {
     "data": {
      "text/plain": [
       "array([[0.52727273, 0.50909091, 0.50909091, 0.49090909, 0.47272727,\n",
       "        0.47272727, 0.47272727, 0.47272727, 0.47272727, 0.47272727],\n",
       "       [0.50909091, 0.50909091, 0.49090909, 0.47272727, 0.47272727,\n",
       "        0.47272727, 0.47272727, 0.47272727, 0.47272727, 0.47272727],\n",
       "       [0.50909091, 0.49090909, 0.47272727, 0.47272727, 0.47272727,\n",
       "        0.47272727, 0.47272727, 0.47272727, 0.47272727, 0.43636364],\n",
       "       [0.49090909, 0.47272727, 0.47272727, 0.47272727, 0.47272727,\n",
       "        0.47272727, 0.47272727, 0.47272727, 0.43636364, 0.43636364],\n",
       "       [0.47272727, 0.47272727, 0.47272727, 0.47272727, 0.47272727,\n",
       "        0.47272727, 0.47272727, 0.43636364, 0.43636364, 0.41818182],\n",
       "       [0.47272727, 0.47272727, 0.47272727, 0.47272727, 0.47272727,\n",
       "        0.47272727, 0.43636364, 0.43636364, 0.41818182, 0.41818182],\n",
       "       [0.47272727, 0.47272727, 0.47272727, 0.47272727, 0.47272727,\n",
       "        0.43636364, 0.43636364, 0.41818182, 0.41818182, 0.43636364],\n",
       "       [0.47272727, 0.47272727, 0.47272727, 0.47272727, 0.43636364,\n",
       "        0.43636364, 0.41818182, 0.41818182, 0.43636364, 0.43636364],\n",
       "       [0.47272727, 0.47272727, 0.47272727, 0.43636364, 0.43636364,\n",
       "        0.41818182, 0.41818182, 0.43636364, 0.43636364, 0.45454545],\n",
       "       [0.47272727, 0.47272727, 0.43636364, 0.43636364, 0.41818182,\n",
       "        0.41818182, 0.43636364, 0.43636364, 0.45454545, 0.47272727],\n",
       "       [0.47272727, 0.43636364, 0.43636364, 0.41818182, 0.41818182,\n",
       "        0.43636364, 0.43636364, 0.45454545, 0.47272727, 0.47272727],\n",
       "       [0.43636364, 0.43636364, 0.41818182, 0.41818182, 0.43636364,\n",
       "        0.43636364, 0.45454545, 0.47272727, 0.47272727, 0.49090909],\n",
       "       [0.43636364, 0.41818182, 0.41818182, 0.43636364, 0.43636364,\n",
       "        0.45454545, 0.47272727, 0.47272727, 0.49090909, 0.49090909],\n",
       "       [0.41818182, 0.41818182, 0.43636364, 0.43636364, 0.45454545,\n",
       "        0.47272727, 0.47272727, 0.49090909, 0.49090909, 0.52727273]])"
      ]
     },
     "execution_count": 45,
     "metadata": {},
     "output_type": "execute_result"
    }
   ],
   "source": [
    "X_train[1:15, :]"
   ]
  },
  {
   "cell_type": "code",
   "execution_count": 46,
   "metadata": {},
   "outputs": [
    {
     "name": "stdout",
     "output_type": "stream",
     "text": [
      "Formato dos dados normalizacao: (8750, 10) (8750,)\n"
     ]
    }
   ],
   "source": [
    "X_teste, y_teste = formata_entrada_saida(df_teste['PRES_normalizado'].reset_index(drop=True), 10)\n",
    "print('Formato dos dados normalizacao:', X_teste.shape, y_teste.shape)"
   ]
  },
  {
   "cell_type": "code",
   "execution_count": 47,
   "metadata": {},
   "outputs": [
    {
     "data": {
      "text/plain": [
       "array([[0.4       , 0.4       , 0.4       , 0.38181818, 0.38181818,\n",
       "        0.38181818, 0.4       , 0.4       , 0.41818182, 0.43636364],\n",
       "       [0.4       , 0.4       , 0.38181818, 0.38181818, 0.38181818,\n",
       "        0.4       , 0.4       , 0.41818182, 0.43636364, 0.43636364],\n",
       "       [0.4       , 0.38181818, 0.38181818, 0.38181818, 0.4       ,\n",
       "        0.4       , 0.41818182, 0.43636364, 0.43636364, 0.43636364],\n",
       "       [0.38181818, 0.38181818, 0.38181818, 0.4       , 0.4       ,\n",
       "        0.41818182, 0.43636364, 0.43636364, 0.43636364, 0.41818182],\n",
       "       [0.38181818, 0.38181818, 0.4       , 0.4       , 0.41818182,\n",
       "        0.43636364, 0.43636364, 0.43636364, 0.41818182, 0.41818182],\n",
       "       [0.38181818, 0.4       , 0.4       , 0.41818182, 0.43636364,\n",
       "        0.43636364, 0.43636364, 0.41818182, 0.41818182, 0.41818182],\n",
       "       [0.4       , 0.4       , 0.41818182, 0.43636364, 0.43636364,\n",
       "        0.43636364, 0.41818182, 0.41818182, 0.41818182, 0.41818182],\n",
       "       [0.4       , 0.41818182, 0.43636364, 0.43636364, 0.43636364,\n",
       "        0.41818182, 0.41818182, 0.41818182, 0.41818182, 0.43636364],\n",
       "       [0.41818182, 0.43636364, 0.43636364, 0.43636364, 0.41818182,\n",
       "        0.41818182, 0.41818182, 0.41818182, 0.43636364, 0.43636364],\n",
       "       [0.43636364, 0.43636364, 0.43636364, 0.41818182, 0.41818182,\n",
       "        0.41818182, 0.41818182, 0.43636364, 0.43636364, 0.45454545],\n",
       "       [0.43636364, 0.43636364, 0.41818182, 0.41818182, 0.41818182,\n",
       "        0.41818182, 0.43636364, 0.43636364, 0.45454545, 0.47272727],\n",
       "       [0.43636364, 0.41818182, 0.41818182, 0.41818182, 0.41818182,\n",
       "        0.43636364, 0.43636364, 0.45454545, 0.47272727, 0.47272727],\n",
       "       [0.41818182, 0.41818182, 0.41818182, 0.41818182, 0.43636364,\n",
       "        0.43636364, 0.45454545, 0.47272727, 0.47272727, 0.49090909],\n",
       "       [0.41818182, 0.41818182, 0.41818182, 0.43636364, 0.43636364,\n",
       "        0.45454545, 0.47272727, 0.47272727, 0.49090909, 0.50909091]])"
      ]
     },
     "execution_count": 47,
     "metadata": {},
     "output_type": "execute_result"
    }
   ],
   "source": [
    "X_teste[1:15, :]"
   ]
  },
  {
   "cell_type": "code",
   "execution_count": 48,
   "metadata": {},
   "outputs": [],
   "source": [
    "# Construindo rede\n",
    "import tensorflow as tf\n",
    "from tensorflow.keras.layers import Dense, Input, Dropout\n",
    "from tensorflow.keras.optimizers import SGD"
   ]
  },
  {
   "cell_type": "code",
   "execution_count": 50,
   "metadata": {},
   "outputs": [],
   "source": [
    "# Camada de entrada\n",
    "camada_entrada = Input(shape=(10,), dtype='float32')\n",
    "\n",
    "# Camada escondidas\n",
    "densa1 = Dense(32, activation='linear')(camada_entrada)\n",
    "densa2 = Dense(16, activation='linear')(densa1)\n",
    "densa3 = Dense(16, activation='linear')(densa2)\n",
    "\n",
    "# Adiciona dropout\n",
    "camada_dropout = Dropout(0.2)(densa3)\n",
    "\n",
    "# Camada de saída\n",
    "camada_de_saida = Dense(1, activation='linear')(camada_dropout)\n",
    "\n",
    "# Definindo modelo MLP (Multi-Layer Perceptron)\n",
    "modelo_MLP = tf.keras.Model(inputs=camada_entrada, outputs=camada_de_saida)"
   ]
  },
  {
   "cell_type": "code",
   "execution_count": 52,
   "metadata": {},
   "outputs": [
    {
     "name": "stdout",
     "output_type": "stream",
     "text": [
      "Model: \"model\"\n",
      "_________________________________________________________________\n",
      "Layer (type)                 Output Shape              Param #   \n",
      "=================================================================\n",
      "input_2 (InputLayer)         [(None, 10)]              0         \n",
      "_________________________________________________________________\n",
      "dense_4 (Dense)              (None, 32)                352       \n",
      "_________________________________________________________________\n",
      "dense_5 (Dense)              (None, 16)                528       \n",
      "_________________________________________________________________\n",
      "dense_6 (Dense)              (None, 16)                272       \n",
      "_________________________________________________________________\n",
      "dropout (Dropout)            (None, 16)                0         \n",
      "_________________________________________________________________\n",
      "dense_7 (Dense)              (None, 1)                 17        \n",
      "=================================================================\n",
      "Total params: 1,169\n",
      "Trainable params: 1,169\n",
      "Non-trainable params: 0\n",
      "_________________________________________________________________\n"
     ]
    }
   ],
   "source": [
    "# Observando a arquitetura do modelo:\n",
    "\n",
    "modelo_MLP.summary()"
   ]
  },
  {
   "cell_type": "code",
   "execution_count": 53,
   "metadata": {},
   "outputs": [],
   "source": [
    "# Definindo a função de erro e otimizador\n",
    "\n",
    "modelo_MLP.compile(loss='mean_squared_error', optimizer='adam')"
   ]
  },
  {
   "cell_type": "code",
   "execution_count": 54,
   "metadata": {},
   "outputs": [
    {
     "name": "stdout",
     "output_type": "stream",
     "text": [
      "Epoch 1/20\n",
      "2191/2191 [==============================] - 2s 964us/step - loss: 0.0035\n",
      "Epoch 2/20\n",
      "2191/2191 [==============================] - 2s 1ms/step - loss: 0.0011A: 0\n",
      "Epoch 3/20\n",
      "2191/2191 [==============================] - 2s 995us/step - loss: 8.8594e-04 0s - loss: \n",
      "Epoch 4/20\n",
      "2191/2191 [==============================] - 2s 1000us/step - loss: 8.2135e-04\n",
      "Epoch 5/20\n",
      "2191/2191 [==============================] - 2s 1ms/step - loss: 8.1196e-04\n",
      "Epoch 6/20\n",
      "2191/2191 [==============================] - 2s 1ms/step - loss: 7.7499e-04\n",
      "Epoch 7/20\n",
      "2191/2191 [==============================] - 2s 1ms/step - loss: 7.7841e-04\n",
      "Epoch 8/20\n",
      "2191/2191 [==============================] - 2s 1ms/step - loss: 7.9026e-04\n",
      "Epoch 9/20\n",
      "2191/2191 [==============================] - 2s 1ms/step - loss: 7.7399e-04\n",
      "Epoch 10/20\n",
      "2191/2191 [==============================] - 2s 1ms/step - loss: 7.8378e-04\n",
      "Epoch 11/20\n",
      "2191/2191 [==============================] - 2s 1ms/step - loss: 7.7311e-04\n",
      "Epoch 12/20\n",
      "2191/2191 [==============================] - 2s 1ms/step - loss: 7.6405e-04\n",
      "Epoch 13/20\n",
      "2191/2191 [==============================] - 2s 1ms/step - loss: 7.6705e-04\n",
      "Epoch 14/20\n",
      "2191/2191 [==============================] - 2s 1ms/step - loss: 7.5639e-04\n",
      "Epoch 15/20\n",
      "2191/2191 [==============================] - 2s 1ms/step - loss: 7.5978e-04\n",
      "Epoch 16/20\n",
      "2191/2191 [==============================] - 2s 1ms/step - loss: 7.5574e-04\n",
      "Epoch 17/20\n",
      "2191/2191 [==============================] - 2s 1ms/step - loss: 7.6359e-04\n",
      "Epoch 18/20\n",
      "2191/2191 [==============================] - 2s 1ms/step - loss: 7.5701e-04\n",
      "Epoch 19/20\n",
      "2191/2191 [==============================] - 2s 1ms/step - loss: 7.6017e-04\n",
      "Epoch 20/20\n",
      "2191/2191 [==============================] - 2s 1ms/step - loss: 7.4320e-04\n"
     ]
    },
    {
     "data": {
      "text/plain": [
       "<tensorflow.python.keras.callbacks.History at 0xc97bd7b48>"
      ]
     },
     "execution_count": 54,
     "metadata": {},
     "output_type": "execute_result"
    }
   ],
   "source": [
    "# Treinamento do modelo e aprendizado dos coeficientes\n",
    "modelo_MLP.fit(X_train, y_train, batch_size=16, epochs=20, verbose=1, shuffle=True)"
   ]
  },
  {
   "cell_type": "code",
   "execution_count": 55,
   "metadata": {},
   "outputs": [
    {
     "data": {
      "text/plain": [
       "(8750, 1)"
      ]
     },
     "execution_count": 55,
     "metadata": {},
     "output_type": "execute_result"
    }
   ],
   "source": [
    "# Realizou a previsão com o modelo MLP\n",
    "previsao = modelo_MLP.predict(X_teste)\n",
    "previsao_PRES = scaler.inverse_transform(previsao)\n",
    "previsao_PRES.shape"
   ]
  },
  {
   "cell_type": "code",
   "execution_count": 57,
   "metadata": {},
   "outputs": [
    {
     "data": {
      "text/plain": [
       "(8750,)"
      ]
     },
     "execution_count": 57,
     "metadata": {},
     "output_type": "execute_result"
    }
   ],
   "source": [
    "# Removendo uma dimensão\n",
    "previsao_PRES = np.squeeze(previsao_PRES)\n",
    "previsao_PRES.shape"
   ]
  },
  {
   "cell_type": "code",
   "execution_count": 59,
   "metadata": {},
   "outputs": [
    {
     "name": "stdout",
     "output_type": "stream",
     "text": [
      "Coeficiente de determinação para o teste(MLP):  0.9957\n"
     ]
    }
   ],
   "source": [
    "from sklearn.metrics import r2_score\n",
    "r2 = r2_score(df_teste['PRES'].iloc[10:], previsao_PRES)\n",
    "# Ignorando os 10 primeiros valores pois são utilizados para previsão do \n",
    "# valor a partir do décimo.\n",
    "print('Coeficiente de determinação para o teste(MLP): ', round(r2, 4))"
   ]
  },
  {
   "cell_type": "code",
   "execution_count": 63,
   "metadata": {},
   "outputs": [
    {
     "data": {
      "text/plain": [
       "Text(0.5, 0, 'Indice')"
      ]
     },
     "execution_count": 63,
     "metadata": {},
     "output_type": "execute_result"
    },
    {
     "data": {
      "image/png": "[encoded data removed]",
      "text/plain": [
       "<Figure size 504x504 with 1 Axes>"
      ]
     },
     "metadata": {
      "needs_background": "light"
     },
     "output_type": "display_data"
    }
   ],
   "source": [
    "# Plotando os valores reais x previstos (de 50 dados apenas)\n",
    "plt.figure(figsize=(7,7))\n",
    "plt.plot(range(50), df_teste['PRES'].iloc[10:60], linestyle='-', marker='*', color='r')\n",
    "plt.plot(range(50), previsao_PRES[:50], linestyle='-', marker='.', color='b')\n",
    "plt.legend(['Real', 'Previsto'], loc=2)\n",
    "plt.title('Valor de Pressão Atmosférico Medido vs Valor de Pressão Atmosférico Previsto (MLP)')\n",
    "plt.ylabel('Pressão Atmosférica')\n",
    "plt.xlabel('Indice')"
   ]
  },
  {
   "cell_type": "code",
   "execution_count": 64,
   "metadata": {},
   "outputs": [],
   "source": [
    "# Testando rede CNN \n",
    "\n",
    "from tensorflow.keras.layers import Flatten # transforma 1D\n",
    "from tensorflow.keras.layers import ZeroPadding1D # completa dados após conv.\n",
    "from tensorflow.keras.layers import Conv1D # camada de convolução\n",
    "from tensorflow.keras.layers import AveragePooling1D # camada de redução (média dos dados encontrados)"
   ]
  },
  {
   "cell_type": "code",
   "execution_count": 69,
   "metadata": {},
   "outputs": [],
   "source": [
    "# Camada de entrada\n",
    "camada_entrada = Input(shape=(10,1), dtype='float32')\n",
    "\n",
    "# === Camada de Convolução ===\n",
    "\n",
    "# Camada de Padding\n",
    "camada_padding = ZeroPadding1D(padding=1)(camada_entrada)\n",
    "# Preenche com 0's antes da convolução para não perder dados\n",
    "# Lembrar que convolução DIMINUI o tamanho dos dados\n",
    "\n",
    "# Camada de convolução\n",
    "camada_convolucao1D = Conv1D(64, 3, strides=1, use_bias=True)(camada_padding)\n",
    "# Adiciona 64 filtros com uma janela de convolução = 3\n",
    "\n",
    "# Camada de Pooling\n",
    "camada_pooling = AveragePooling1D(pool_size=3, strides=1)(camada_convolucao1D)\n",
    "# Reduz valor através do valor média para a convolução\n",
    "# Se fosse MaxPooling seria valor máximo\n",
    "\n",
    "# === Camada Densa ===\n",
    "\n",
    "# Camada Flatten\n",
    "camada_flatten = Flatten()(camada_pooling)\n",
    "\n",
    "# Camada Dropout\n",
    "camada_dropout_cnn = Dropout(0.2)(camada_flatten)\n",
    "\n",
    "# Camada de Saída\n",
    "camada_saida = Dense(1, activation='linear')(camada_dropout_cnn)\n",
    "\n",
    "# Definindo modelo MLP (Multi-Layer Perceptron)\n",
    "modelo_CNN = tf.keras.Model(inputs=camada_entrada, outputs=camada_saida)"
   ]
  },
  {
   "cell_type": "code",
   "execution_count": 71,
   "metadata": {},
   "outputs": [
    {
     "name": "stdout",
     "output_type": "stream",
     "text": [
      "Model: \"model_2\"\n",
      "_________________________________________________________________\n",
      "Layer (type)                 Output Shape              Param #   \n",
      "=================================================================\n",
      "input_7 (InputLayer)         [(None, 10, 1)]           0         \n",
      "_________________________________________________________________\n",
      "zero_padding1d_4 (ZeroPaddin (None, 12, 1)             0         \n",
      "_________________________________________________________________\n",
      "conv1d_4 (Conv1D)            (None, 10, 64)            256       \n",
      "_________________________________________________________________\n",
      "average_pooling1d_4 (Average (None, 8, 64)             0         \n",
      "_________________________________________________________________\n",
      "flatten_3 (Flatten)          (None, 512)               0         \n",
      "_________________________________________________________________\n",
      "dropout_4 (Dropout)          (None, 512)               0         \n",
      "_________________________________________________________________\n",
      "dense_11 (Dense)             (None, 1)                 513       \n",
      "=================================================================\n",
      "Total params: 769\n",
      "Trainable params: 769\n",
      "Non-trainable params: 0\n",
      "_________________________________________________________________\n"
     ]
    }
   ],
   "source": [
    "# Observando arquitetura criada e total parametros\n",
    "\n",
    "modelo_CNN.summary()"
   ]
  },
  {
   "cell_type": "code",
   "execution_count": 72,
   "metadata": {},
   "outputs": [],
   "source": [
    "# Compilando e colocando função perda e otimizados\n",
    "modelo_CNN.compile(loss='mean_absolute_error', optimizer='adam')"
   ]
  },
  {
   "cell_type": "code",
   "execution_count": 73,
   "metadata": {},
   "outputs": [
    {
     "name": "stdout",
     "output_type": "stream",
     "text": [
      "Formatos para o treinamento e teste:  (35054, 10, 1) (8750, 10, 1)\n"
     ]
    }
   ],
   "source": [
    "# Transformando os dados de treinamento e teste para 3D (CNN exige)\n",
    "X_train, X_teste = X_train.reshape((X_train.shape[0], X_train.shape[1], 1)), X_teste.reshape((X_teste.shape[0], X_teste.shape[1], 1))\n",
    "print('Formatos para o treinamento e teste: ', X_train.shape, X_teste.shape)"
   ]
  },
  {
   "cell_type": "code",
   "execution_count": 74,
   "metadata": {},
   "outputs": [
    {
     "name": "stdout",
     "output_type": "stream",
     "text": [
      "Epoch 1/20\n",
      "2191/2191 [==============================] - 3s 2ms/step - loss: 0.0278\n",
      "Epoch 2/20\n",
      "2191/2191 [==============================] - 3s 2ms/step - loss: 0.0176\n",
      "Epoch 3/20\n",
      "2191/2191 [==============================] - 3s 2ms/step - loss: 0.0154\n",
      "Epoch 4/20\n",
      "2191/2191 [==============================] - 3s 2ms/step - loss: 0.0146\n",
      "Epoch 5/20\n",
      "2191/2191 [==============================] - 3s 2ms/step - loss: 0.0140\n",
      "Epoch 6/20\n",
      "2191/2191 [==============================] - 3s 2ms/step - loss: 0.0140\n",
      "Epoch 7/20\n",
      "2191/2191 [==============================] - 4s 2ms/step - loss: 0.0139\n",
      "Epoch 8/20\n",
      "2191/2191 [==============================] - 3s 2ms/step - loss: 0.0136\n",
      "Epoch 9/20\n",
      "2191/2191 [==============================] - 3s 1ms/step - loss: 0.0133\n",
      "Epoch 10/20\n",
      "2191/2191 [==============================] - 3s 1ms/step - loss: 0.0134\n",
      "Epoch 11/20\n",
      "2191/2191 [==============================] - 3s 1ms/step - loss: 0.0136\n",
      "Epoch 12/20\n",
      "2191/2191 [==============================] - 3s 1ms/step - loss: 0.0138\n",
      "Epoch 13/20\n",
      "2191/2191 [==============================] - 3s 1ms/step - loss: 0.0133\n",
      "Epoch 14/20\n",
      "2191/2191 [==============================] - 3s 1ms/step - loss: 0.0134\n",
      "Epoch 15/20\n",
      "2191/2191 [==============================] - 3s 1ms/step - loss: 0.0132\n",
      "Epoch 16/20\n",
      "2191/2191 [==============================] - 3s 1ms/step - loss: 0.0131\n",
      "Epoch 17/20\n",
      "2191/2191 [==============================] - 3s 1ms/step - loss: 0.0132\n",
      "Epoch 18/20\n",
      "2191/2191 [==============================] - 3s 1ms/step - loss: 0.0131\n",
      "Epoch 19/20\n",
      "2191/2191 [==============================] - 3s 1ms/step - loss: 0.0132\n",
      "Epoch 20/20\n",
      "2191/2191 [==============================] - 3s 1ms/step - loss: 0.0131\n"
     ]
    },
    {
     "data": {
      "text/plain": [
       "<tensorflow.python.keras.callbacks.History at 0xc97a92388>"
      ]
     },
     "execution_count": 74,
     "metadata": {},
     "output_type": "execute_result"
    }
   ],
   "source": [
    "# Realizando treino do modelo\n",
    "modelo_CNN.fit(X_train, y_train, batch_size=16, epochs=20, verbose=1, shuffle=True)"
   ]
  },
  {
   "cell_type": "code",
   "execution_count": 76,
   "metadata": {},
   "outputs": [],
   "source": [
    "# Previsão com modelo CNN\n",
    "previsao_cnn = modelo_CNN.predict(X_teste)\n",
    "PRES_cnn = np.squeeze(scaler.inverse_transform(previsao_cnn))"
   ]
  },
  {
   "cell_type": "code",
   "execution_count": 77,
   "metadata": {},
   "outputs": [
    {
     "name": "stdout",
     "output_type": "stream",
     "text": [
      "Coeficiente de determinação para o teste:  0.9957\n"
     ]
    }
   ],
   "source": [
    "r2_cnn = r2_score(df_teste['PRES'].iloc[10:], PRES_cnn)\n",
    "print('Coeficiente de determinação para o teste: ', round(r2, 4))"
   ]
  },
  {
   "cell_type": "code",
   "execution_count": 78,
   "metadata": {},
   "outputs": [
    {
     "data": {
      "text/plain": [
       "Text(0.5, 0, 'Indice')"
      ]
     },
     "execution_count": 78,
     "metadata": {},
     "output_type": "execute_result"
    },
    {
     "data": {
      "image/png": "[encoded data removed]",
      "text/plain": [
       "<Figure size 504x504 with 1 Axes>"
      ]
     },
     "metadata": {
      "needs_background": "light"
     },
     "output_type": "display_data"
    }
   ],
   "source": [
    "# Plotando os valores reais x previstos (de 50 dados apenas)\n",
    "plt.figure(figsize=(7,7))\n",
    "plt.plot(range(50), df_teste['PRES'].iloc[10:60], linestyle='-', marker='*', color='r')\n",
    "plt.plot(range(50), PRES_cnn[:50], linestyle='-', marker='.', color='b')\n",
    "plt.legend(['Real', 'Previsto'], loc=2)\n",
    "plt.title('Valor de Pressão Atmosférico Medido vs Valor de Pressão Atmosférico Previsto (Rede CNN)')\n",
    "plt.ylabel('Pressão Atmosférica')\n",
    "plt.xlabel('Indice')"
   ]
  },
  {
   "cell_type": "code",
   "execution_count": null,
   "metadata": {},
   "outputs": [],
   "source": []
  }
 ],
 "metadata": {
  "kernelspec": {
   "display_name": "Python 3",
   "language": "python",
   "name": "python3"
  },
  "language_info": {
   "codemirror_mode": {
    "name": "ipython",
    "version": 3
   },
   "file_extension": ".py",
   "mimetype": "text/x-python",
   "name": "python",
   "nbconvert_exporter": "python",
   "pygments_lexer": "ipython3",
   "version": "3.7.6"
  }
 },
 "nbformat": 4,
 "nbformat_minor": 4
}
