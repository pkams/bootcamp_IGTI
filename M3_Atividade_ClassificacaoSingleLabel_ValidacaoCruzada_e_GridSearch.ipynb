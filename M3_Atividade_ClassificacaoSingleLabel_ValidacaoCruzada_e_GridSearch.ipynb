{
 "cells": [
  {
   "cell_type": "code",
   "execution_count": 30,
   "metadata": {},
   "outputs": [],
   "source": [
    "# Carregando dataset\n",
    "from sklearn.datasets import load_wine\n",
    "wine=load_wine()"
   ]
  },
  {
   "cell_type": "code",
   "execution_count": 31,
   "metadata": {},
   "outputs": [],
   "source": [
    "# Obtendo dados X e y\n",
    "X = wine.data[:,:] # Parametro de entrada\n",
    "y = wine.target # Saída real"
   ]
  },
  {
   "cell_type": "code",
   "execution_count": 32,
   "metadata": {},
   "outputs": [],
   "source": [
    "# Divisão em treino e teste\n",
    "from sklearn.model_selection import train_test_split\n",
    "\n",
    "X_train, X_test, y_train, y_test = train_test_split(X,y,test_size=0.33,random_state=42)"
   ]
  },
  {
   "cell_type": "code",
   "execution_count": 33,
   "metadata": {},
   "outputs": [],
   "source": [
    "# Carregando, fitando e predizendo com modelo Random Forest Classifier\n",
    "from sklearn.ensemble import RandomForestClassifier\n",
    "rfc = RandomForestClassifier()\n",
    "rfc.fit(X_train, y_train)\n",
    "y_pred = rfc.predict(X_test)"
   ]
  },
  {
   "cell_type": "code",
   "execution_count": 34,
   "metadata": {},
   "outputs": [],
   "source": [
    "# Carregando série de métrica: Acuracia, Recall e Precision\n",
    "from sklearn.metrics import accuracy_score, recall_score, precision_score\n",
    "\n",
    "rfc_acc = round(accuracy_score(y_test, y_pred), 6)\n",
    "rfc_rec = round(recall_score(y_test, y_pred, average='weighted'), 6)\n",
    "rfc_pre = round(precision_score(y_test, y_pred, average='weighted'), 6)"
   ]
  },
  {
   "cell_type": "code",
   "execution_count": 35,
   "metadata": {},
   "outputs": [
    {
     "name": "stdout",
     "output_type": "stream",
     "text": [
      "=== Random Forest Classifier ===\n",
      "Acurácia:  1.0\n",
      "Recall:  1.0\n",
      "Precision:  1.0\n"
     ]
    }
   ],
   "source": [
    "print('=== Random Forest Classifier ===')\n",
    "print('Acurácia: ', rfc_acc)\n",
    "print('Recall: ', rfc_rec)\n",
    "print('Precision: ', rfc_pre)"
   ]
  },
  {
   "cell_type": "code",
   "execution_count": 36,
   "metadata": {},
   "outputs": [],
   "source": [
    "# Carregando, fitando e predizendo com modelo KNN\n",
    "from sklearn.neighbors import KNeighborsClassifier\n",
    "knn = KNeighborsClassifier(3)\n",
    "knn.fit(X_train, y_train)\n",
    "y_pred = knn.predict(X_test)"
   ]
  },
  {
   "cell_type": "code",
   "execution_count": 37,
   "metadata": {},
   "outputs": [],
   "source": [
    "# Métricas para KNN\n",
    "knn_acc = round(accuracy_score(y_test, y_pred), 6)\n",
    "knn_rec = round(recall_score(y_test, y_pred, average='weighted'), 6)\n",
    "knn_pre = round(precision_score(y_test, y_pred, average='weighted'), 6)"
   ]
  },
  {
   "cell_type": "code",
   "execution_count": 38,
   "metadata": {},
   "outputs": [
    {
     "name": "stdout",
     "output_type": "stream",
     "text": [
      "=== KNN ===\n",
      "Acurácia:  0.694915\n",
      "Recall:  0.694915\n",
      "Precision:  0.698231\n"
     ]
    }
   ],
   "source": [
    "print('=== KNN ===')\n",
    "print('Acurácia: ', knn_acc)\n",
    "print('Recall: ', knn_rec)\n",
    "print('Precision: ', knn_pre)"
   ]
  },
  {
   "cell_type": "code",
   "execution_count": 39,
   "metadata": {},
   "outputs": [
    {
     "name": "stdout",
     "output_type": "stream",
     "text": [
      "KNN vs Random Forest\n",
      "\n",
      "Classes: ['class_0' 'class_1' 'class_2']\n",
      "\n",
      "Acurácia: 0.694915 vs 1.0\n",
      "Recall: 0.694915 vs 1.0\n",
      "Precision: 0.698231 vs 1.0\n"
     ]
    }
   ],
   "source": [
    "# Comparando\n",
    "print('KNN vs Random Forest\\n')\n",
    "print('Classes: {0}\\n'.format(wine.target_names))\n",
    "print('Acurácia: {0} vs {1}'.format(knn_acc, rfc_acc))\n",
    "print('Recall: {0} vs {1}'.format(knn_rec, rfc_rec))\n",
    "print('Precision: {0} vs {1}'.format(knn_pre, rfc_pre))"
   ]
  },
  {
   "cell_type": "code",
   "execution_count": 40,
   "metadata": {},
   "outputs": [
    {
     "name": "stdout",
     "output_type": "stream",
     "text": [
      "\n",
      "Validação Cruzada:\n",
      "[0.63888889 0.69444444 0.66666667 0.65714286 0.85714286] vs \n",
      "[0.97222222 0.94444444 0.97222222 0.97142857 1.        ] \n",
      "\n",
      "Resultado Random Forest: 0.9720634920634922\n",
      "\n",
      "Resultado KNN: 0.7028571428571428\n"
     ]
    }
   ],
   "source": [
    "# Validação cruzada\n",
    "from sklearn.model_selection import cross_val_score\n",
    "cv_rfc = cross_val_score(rfc,X,y)\n",
    "cv_knn = cross_val_score(knn,X,y)\n",
    "print('\\nValidação Cruzada:\\n{0} vs \\n{1} '.format(cv_knn, cv_rfc))\n",
    "\n",
    "sum_cv_rfc = 0\n",
    "for cv_score in cv_rfc:\n",
    "    sum_cv_rfc += cv_score\n",
    "    \n",
    "print('\\nResultado Random Forest: {0}'.format(sum_cv_rfc/5))\n",
    "\n",
    "sum_cv_knn = 0\n",
    "for cv_score in cv_knn:\n",
    "    sum_cv_knn += cv_score\n",
    "    \n",
    "print('\\nResultado KNN: {0}'.format(sum_cv_knn/5))"
   ]
  },
  {
   "cell_type": "code",
   "execution_count": 41,
   "metadata": {},
   "outputs": [
    {
     "name": "stdout",
     "output_type": "stream",
     "text": [
      "Melhor valor para min_samples_split: 2\n"
     ]
    }
   ],
   "source": [
    "# Buscando Hiperparametros\n",
    "from sklearn.model_selection import GridSearchCV\n",
    "\n",
    "# RFC\n",
    "parameters = {'min_samples_split':(2,6)}\n",
    "rfc_hps = GridSearchCV(rfc, parameters)\n",
    "rfc_hps.fit(X,y)\n",
    "print('Melhor valor para min_samples_split: {0}'.format(rfc_hps.best_params_['min_samples_split']))"
   ]
  },
  {
   "cell_type": "code",
   "execution_count": 26,
   "metadata": {},
   "outputs": [
    {
     "name": "stdout",
     "output_type": "stream",
     "text": [
      "Melhor valor para n_neighbors: 1\n"
     ]
    }
   ],
   "source": [
    "# KNN\n",
    "parameters = {'n_neighbors':(1,20)}\n",
    "knn_hps = GridSearchCV(knn, parameters)\n",
    "knn_hps.fit(X,y)\n",
    "print('Melhor valor para n_neighbors: {0}'.format(knn_hps.best_params_['n_neighbors']))"
   ]
  },
  {
   "cell_type": "code",
   "execution_count": null,
   "metadata": {},
   "outputs": [],
   "source": []
  }
 ],
 "metadata": {
  "kernelspec": {
   "display_name": "Python 3",
   "language": "python",
   "name": "python3"
  },
  "language_info": {
   "codemirror_mode": {
    "name": "ipython",
    "version": 3
   },
   "file_extension": ".py",
   "mimetype": "text/x-python",
   "name": "python",
   "nbconvert_exporter": "python",
   "pygments_lexer": "ipython3",
   "version": "3.7.6"
  }
 },
 "nbformat": 4,
 "nbformat_minor": 4
}
