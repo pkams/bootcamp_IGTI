{
  "nbformat": 4,
  "nbformat_minor": 0,
  "metadata": {
    "colab": {
      "name": "trabalho_pratico_FAM.ipynb",
      "provenance": [],
      "collapsed_sections": [],
      "include_colab_link": true
    },
    "kernelspec": {
      "display_name": "Python 3",
      "language": "python",
      "name": "python3"
    },
    "language_info": {
      "codemirror_mode": {
        "name": "ipython",
        "version": 3
      },
      "file_extension": ".py",
      "mimetype": "text/x-python",
      "name": "python",
      "nbconvert_exporter": "python",
      "pygments_lexer": "ipython3",
      "version": "3.7.6"
    }
  },
  "cells": [
    {
      "cell_type": "markdown",
      "metadata": {
        "id": "view-in-github",
        "colab_type": "text"
      },
      "source": [
        "<a href=\"https://colab.research.google.com/github/pkams/bootcamp_IGTI/blob/master/trabalho_pratico_FAM.ipynb\" target=\"_parent\"><img src=\"https://colab.research.google.com/assets/colab-badge.svg\" alt=\"Open In Colab\"/></a>"
      ]
    },
    {
      "cell_type": "code",
      "metadata": {
        "colab_type": "code",
        "id": "Mfd1Q8Zlgpx2",
        "colab": {}
      },
      "source": [
        "#Este programa é utilizado para o desenvolvimento do trabalho prático da disciplina FAM do bootcamp de MLE"
      ],
      "execution_count": 0,
      "outputs": []
    },
    {
      "cell_type": "code",
      "metadata": {
        "colab_type": "code",
        "id": "XkAa6kElhAz9",
        "colab": {}
      },
      "source": [
        "#importando as bibliotecas\n",
        "import pandas as pd #biblioteca utilizada para o tratamento de dados via dataframes \n",
        "import numpy as np #biblioteca utilizada para o tratamento de valores numéricos (vetores e matrizes)\n",
        "import matplotlib.pyplot as plt #biblioteca utilizada para construir os gráficos\n"
      ],
      "execution_count": 0,
      "outputs": []
    },
    {
      "cell_type": "code",
      "metadata": {
        "colab_type": "code",
        "id": "c3aot9E-li4L",
        "colab": {}
      },
      "source": [
        "#realizando a leitura do arquivo (dataset)\n",
        "nome_do_arquivo=\"data.csv\"\n",
        "dataframe_envio_portos= pd.read_csv(nome_do_arquivo)"
      ],
      "execution_count": 0,
      "outputs": []
    },
    {
      "cell_type": "code",
      "metadata": {
        "colab_type": "code",
        "id": "bKF37jCWl5SG",
        "outputId": "603cde9d-f9a7-41f0-a158-b4ecc544b837",
        "colab": {
          "base_uri": "https://localhost:8080/",
          "height": 215
        }
      },
      "source": [
        "#apresentando as 5 primeiras linhas do dataset\n",
        "dataframe_envio_portos.head()"
      ],
      "execution_count": 0,
      "outputs": [
        {
          "output_type": "execute_result",
          "data": {
            "text/html": [
              "<div>\n",
              "<style scoped>\n",
              "    .dataframe tbody tr th:only-of-type {\n",
              "        vertical-align: middle;\n",
              "    }\n",
              "\n",
              "    .dataframe tbody tr th {\n",
              "        vertical-align: top;\n",
              "    }\n",
              "\n",
              "    .dataframe thead th {\n",
              "        text-align: right;\n",
              "    }\n",
              "</style>\n",
              "<table border=\"1\" class=\"dataframe\">\n",
              "  <thead>\n",
              "    <tr style=\"text-align: right;\">\n",
              "      <th></th>\n",
              "      <th>valid_import</th>\n",
              "      <th>item</th>\n",
              "      <th>importer_id</th>\n",
              "      <th>exporter_id</th>\n",
              "      <th>country_of_origin</th>\n",
              "      <th>declared_quantity</th>\n",
              "      <th>declared_cost</th>\n",
              "      <th>mode_of_transport</th>\n",
              "      <th>route</th>\n",
              "      <th>date_of_departure</th>\n",
              "      <th>date_of_arrival</th>\n",
              "      <th>declared_weight</th>\n",
              "      <th>actual_weight</th>\n",
              "      <th>days_in_transit</th>\n",
              "    </tr>\n",
              "  </thead>\n",
              "  <tbody>\n",
              "    <tr>\n",
              "      <th>0</th>\n",
              "      <td>True</td>\n",
              "      <td>cigar</td>\n",
              "      <td>111</td>\n",
              "      <td>222</td>\n",
              "      <td>India</td>\n",
              "      <td>129</td>\n",
              "      <td>3784.402551</td>\n",
              "      <td>sea</td>\n",
              "      <td>asia</td>\n",
              "      <td>04/25/2019</td>\n",
              "      <td>05/13/2019</td>\n",
              "      <td>1608.605135</td>\n",
              "      <td>1637.661221</td>\n",
              "      <td>18.232857</td>\n",
              "    </tr>\n",
              "    <tr>\n",
              "      <th>1</th>\n",
              "      <td>True</td>\n",
              "      <td>cigar</td>\n",
              "      <td>111</td>\n",
              "      <td>222</td>\n",
              "      <td>India</td>\n",
              "      <td>104</td>\n",
              "      <td>3081.350806</td>\n",
              "      <td>sea</td>\n",
              "      <td>america</td>\n",
              "      <td>04/22/2019</td>\n",
              "      <td>05/24/2019</td>\n",
              "      <td>831.719301</td>\n",
              "      <td>848.273419</td>\n",
              "      <td>32.436029</td>\n",
              "    </tr>\n",
              "    <tr>\n",
              "      <th>2</th>\n",
              "      <td>True</td>\n",
              "      <td>cigar</td>\n",
              "      <td>111</td>\n",
              "      <td>222</td>\n",
              "      <td>India</td>\n",
              "      <td>130</td>\n",
              "      <td>4414.125741</td>\n",
              "      <td>sea</td>\n",
              "      <td>europe</td>\n",
              "      <td>04/29/2019</td>\n",
              "      <td>05/16/2019</td>\n",
              "      <td>1527.704165</td>\n",
              "      <td>1582.063911</td>\n",
              "      <td>16.996206</td>\n",
              "    </tr>\n",
              "    <tr>\n",
              "      <th>3</th>\n",
              "      <td>True</td>\n",
              "      <td>cigar</td>\n",
              "      <td>111</td>\n",
              "      <td>222</td>\n",
              "      <td>India</td>\n",
              "      <td>143</td>\n",
              "      <td>2533.535991</td>\n",
              "      <td>sea</td>\n",
              "      <td>panama</td>\n",
              "      <td>05/05/2019</td>\n",
              "      <td>05/25/2019</td>\n",
              "      <td>1138.680563</td>\n",
              "      <td>1179.993817</td>\n",
              "      <td>19.965886</td>\n",
              "    </tr>\n",
              "    <tr>\n",
              "      <th>4</th>\n",
              "      <td>True</td>\n",
              "      <td>cigar</td>\n",
              "      <td>111</td>\n",
              "      <td>222</td>\n",
              "      <td>China</td>\n",
              "      <td>141</td>\n",
              "      <td>4396.397887</td>\n",
              "      <td>sea</td>\n",
              "      <td>asia</td>\n",
              "      <td>05/14/2019</td>\n",
              "      <td>06/05/2019</td>\n",
              "      <td>761.744581</td>\n",
              "      <td>781.735080</td>\n",
              "      <td>22.160034</td>\n",
              "    </tr>\n",
              "  </tbody>\n",
              "</table>\n",
              "</div>"
            ],
            "text/plain": [
              "   valid_import   item  ...  actual_weight  days_in_transit\n",
              "0          True  cigar  ...    1637.661221        18.232857\n",
              "1          True  cigar  ...     848.273419        32.436029\n",
              "2          True  cigar  ...    1582.063911        16.996206\n",
              "3          True  cigar  ...    1179.993817        19.965886\n",
              "4          True  cigar  ...     781.735080        22.160034\n",
              "\n",
              "[5 rows x 14 columns]"
            ]
          },
          "metadata": {
            "tags": []
          },
          "execution_count": 5
        }
      ]
    },
    {
      "cell_type": "code",
      "metadata": {
        "colab_type": "code",
        "id": "OL2cLcK_mPBO",
        "outputId": "1fafe3f2-d1ab-4b7a-8966-8fbef7f9d33c",
        "colab": {
          "base_uri": "https://localhost:8080/",
          "height": 370
        }
      },
      "source": [
        "dataframe_envio_portos.info() #verificando os tipos de variáveis e se existem ou não valores nulos"
      ],
      "execution_count": 0,
      "outputs": [
        {
          "output_type": "stream",
          "text": [
            "<class 'pandas.core.frame.DataFrame'>\n",
            "RangeIndex: 120 entries, 0 to 119\n",
            "Data columns (total 14 columns):\n",
            " #   Column             Non-Null Count  Dtype  \n",
            "---  ------             --------------  -----  \n",
            " 0   valid_import       120 non-null    bool   \n",
            " 1   item               120 non-null    object \n",
            " 2   importer_id        120 non-null    int64  \n",
            " 3   exporter_id        120 non-null    int64  \n",
            " 4   country_of_origin  120 non-null    object \n",
            " 5   declared_quantity  120 non-null    int64  \n",
            " 6   declared_cost      120 non-null    float64\n",
            " 7   mode_of_transport  120 non-null    object \n",
            " 8   route              120 non-null    object \n",
            " 9   date_of_departure  120 non-null    object \n",
            " 10  date_of_arrival    120 non-null    object \n",
            " 11  declared_weight    120 non-null    float64\n",
            " 12  actual_weight      120 non-null    float64\n",
            " 13  days_in_transit    120 non-null    float64\n",
            "dtypes: bool(1), float64(4), int64(3), object(6)\n",
            "memory usage: 12.4+ KB\n"
          ],
          "name": "stdout"
        }
      ]
    },
    {
      "cell_type": "code",
      "metadata": {
        "id": "JXdkMIu38eYp",
        "colab_type": "code",
        "outputId": "4936c0fd-fc86-49db-bec9-4274008c7b02",
        "colab": {}
      },
      "source": [
        "(dataframe_envio_portos.dtypes == 'int64').sum()"
      ],
      "execution_count": 0,
      "outputs": [
        {
          "output_type": "execute_result",
          "data": {
            "text/plain": [
              "3"
            ]
          },
          "metadata": {
            "tags": []
          },
          "execution_count": 29
        }
      ]
    },
    {
      "cell_type": "code",
      "metadata": {
        "id": "FMUbjDqj8eYu",
        "colab_type": "code",
        "outputId": "bde52313-5dde-45ff-ebcc-478091a86819",
        "colab": {}
      },
      "source": [
        "dataframe_envio_portos.dtypes.nunique()"
      ],
      "execution_count": 0,
      "outputs": [
        {
          "output_type": "execute_result",
          "data": {
            "text/plain": [
              "4"
            ]
          },
          "metadata": {
            "tags": []
          },
          "execution_count": 32
        }
      ]
    },
    {
      "cell_type": "code",
      "metadata": {
        "id": "hfXtyFBW8eYy",
        "colab_type": "code",
        "outputId": "4fa5827b-72c5-4695-c0f1-924cb20f8553",
        "colab": {}
      },
      "source": [
        "dataframe_envio_portos.isna().sum()"
      ],
      "execution_count": 0,
      "outputs": [
        {
          "output_type": "execute_result",
          "data": {
            "text/plain": [
              "valid_import         0\n",
              "item                 0\n",
              "importer_id          0\n",
              "exporter_id          0\n",
              "country_of_origin    0\n",
              "declared_quantity    0\n",
              "declared_cost        0\n",
              "mode_of_transport    0\n",
              "route                0\n",
              "date_of_departure    0\n",
              "date_of_arrival      0\n",
              "declared_weight      0\n",
              "actual_weight        0\n",
              "days_in_transit      0\n",
              "dtype: int64"
            ]
          },
          "metadata": {
            "tags": []
          },
          "execution_count": 10
        }
      ]
    },
    {
      "cell_type": "markdown",
      "metadata": {
        "colab_type": "text",
        "id": "6H6KdP5EomAM"
      },
      "source": [
        "**Existem Colunas Com Valores Nulos?**"
      ]
    },
    {
      "cell_type": "code",
      "metadata": {
        "id": "Iim3kA4R8eY2",
        "colab_type": "code",
        "colab": {}
      },
      "source": [
        "# Não"
      ],
      "execution_count": 0,
      "outputs": []
    },
    {
      "cell_type": "code",
      "metadata": {
        "colab_type": "code",
        "id": "6E-2Hd7tyBXA",
        "outputId": "437fc0ef-3351-4c1f-c14b-0f6f8503b4bb",
        "colab": {
          "base_uri": "https://localhost:8080/",
          "height": 34
        }
      },
      "source": [
        "dataframe_envio_portos.shape"
      ],
      "execution_count": 0,
      "outputs": [
        {
          "output_type": "execute_result",
          "data": {
            "text/plain": [
              "(120, 14)"
            ]
          },
          "metadata": {
            "tags": []
          },
          "execution_count": 7
        }
      ]
    },
    {
      "cell_type": "markdown",
      "metadata": {
        "colab_type": "text",
        "id": "mKtkghQso5X3"
      },
      "source": [
        "**Quantas Instâncias e Características Existem no Dataset?**\n",
        "\n"
      ]
    },
    {
      "cell_type": "code",
      "metadata": {
        "id": "3MyQ6qYq8eY-",
        "colab_type": "code",
        "colab": {}
      },
      "source": [
        "# 14 caracteristicas\n",
        "# 120 amostras"
      ],
      "execution_count": 0,
      "outputs": []
    },
    {
      "cell_type": "code",
      "metadata": {
        "colab_type": "code",
        "id": "EK9PIlANo1NA",
        "outputId": "2b18e7c9-2c51-4e66-b3ab-878923a12af6",
        "colab": {
          "base_uri": "https://localhost:8080/",
          "height": 297
        }
      },
      "source": [
        "#analisando a \"estatística\" do dataset\n",
        "dataframe_envio_portos.describe()"
      ],
      "execution_count": 0,
      "outputs": [
        {
          "output_type": "execute_result",
          "data": {
            "text/html": [
              "<div>\n",
              "<style scoped>\n",
              "    .dataframe tbody tr th:only-of-type {\n",
              "        vertical-align: middle;\n",
              "    }\n",
              "\n",
              "    .dataframe tbody tr th {\n",
              "        vertical-align: top;\n",
              "    }\n",
              "\n",
              "    .dataframe thead th {\n",
              "        text-align: right;\n",
              "    }\n",
              "</style>\n",
              "<table border=\"1\" class=\"dataframe\">\n",
              "  <thead>\n",
              "    <tr style=\"text-align: right;\">\n",
              "      <th></th>\n",
              "      <th>importer_id</th>\n",
              "      <th>exporter_id</th>\n",
              "      <th>declared_quantity</th>\n",
              "      <th>declared_cost</th>\n",
              "      <th>declared_weight</th>\n",
              "      <th>actual_weight</th>\n",
              "      <th>days_in_transit</th>\n",
              "    </tr>\n",
              "  </thead>\n",
              "  <tbody>\n",
              "    <tr>\n",
              "      <th>count</th>\n",
              "      <td>120.0</td>\n",
              "      <td>120.0</td>\n",
              "      <td>120.000000</td>\n",
              "      <td>120.000000</td>\n",
              "      <td>120.000000</td>\n",
              "      <td>120.000000</td>\n",
              "      <td>120.000000</td>\n",
              "    </tr>\n",
              "    <tr>\n",
              "      <th>mean</th>\n",
              "      <td>111.0</td>\n",
              "      <td>222.0</td>\n",
              "      <td>127.458333</td>\n",
              "      <td>6743.649881</td>\n",
              "      <td>1264.702934</td>\n",
              "      <td>1306.429806</td>\n",
              "      <td>35.424705</td>\n",
              "    </tr>\n",
              "    <tr>\n",
              "      <th>std</th>\n",
              "      <td>0.0</td>\n",
              "      <td>0.0</td>\n",
              "      <td>14.641311</td>\n",
              "      <td>2991.797050</td>\n",
              "      <td>633.149971</td>\n",
              "      <td>656.911704</td>\n",
              "      <td>26.571591</td>\n",
              "    </tr>\n",
              "    <tr>\n",
              "      <th>min</th>\n",
              "      <td>111.0</td>\n",
              "      <td>222.0</td>\n",
              "      <td>100.000000</td>\n",
              "      <td>1441.012419</td>\n",
              "      <td>18.459509</td>\n",
              "      <td>19.275241</td>\n",
              "      <td>12.410325</td>\n",
              "    </tr>\n",
              "    <tr>\n",
              "      <th>25%</th>\n",
              "      <td>111.0</td>\n",
              "      <td>222.0</td>\n",
              "      <td>115.750000</td>\n",
              "      <td>4442.903914</td>\n",
              "      <td>820.314400</td>\n",
              "      <td>841.763738</td>\n",
              "      <td>18.225625</td>\n",
              "    </tr>\n",
              "    <tr>\n",
              "      <th>50%</th>\n",
              "      <td>111.0</td>\n",
              "      <td>222.0</td>\n",
              "      <td>131.500000</td>\n",
              "      <td>6010.218745</td>\n",
              "      <td>1255.597743</td>\n",
              "      <td>1305.716419</td>\n",
              "      <td>27.044293</td>\n",
              "    </tr>\n",
              "    <tr>\n",
              "      <th>75%</th>\n",
              "      <td>111.0</td>\n",
              "      <td>222.0</td>\n",
              "      <td>139.000000</td>\n",
              "      <td>8887.095370</td>\n",
              "      <td>1711.314045</td>\n",
              "      <td>1763.681083</td>\n",
              "      <td>44.356374</td>\n",
              "    </tr>\n",
              "    <tr>\n",
              "      <th>max</th>\n",
              "      <td>111.0</td>\n",
              "      <td>222.0</td>\n",
              "      <td>149.000000</td>\n",
              "      <td>14281.325362</td>\n",
              "      <td>2806.338955</td>\n",
              "      <td>2918.681683</td>\n",
              "      <td>147.787560</td>\n",
              "    </tr>\n",
              "  </tbody>\n",
              "</table>\n",
              "</div>"
            ],
            "text/plain": [
              "       importer_id  exporter_id  ...  actual_weight  days_in_transit\n",
              "count        120.0        120.0  ...     120.000000       120.000000\n",
              "mean         111.0        222.0  ...    1306.429806        35.424705\n",
              "std            0.0          0.0  ...     656.911704        26.571591\n",
              "min          111.0        222.0  ...      19.275241        12.410325\n",
              "25%          111.0        222.0  ...     841.763738        18.225625\n",
              "50%          111.0        222.0  ...    1305.716419        27.044293\n",
              "75%          111.0        222.0  ...    1763.681083        44.356374\n",
              "max          111.0        222.0  ...    2918.681683       147.787560\n",
              "\n",
              "[8 rows x 7 columns]"
            ]
          },
          "metadata": {
            "tags": []
          },
          "execution_count": 14
        }
      ]
    },
    {
      "cell_type": "markdown",
      "metadata": {
        "colab_type": "text",
        "id": "rMDw3h6RwmEh"
      },
      "source": [
        "**Qual é o Valor Médio Para os Pesos Declarados?**"
      ]
    },
    {
      "cell_type": "code",
      "metadata": {
        "id": "y-FbXRai8eZG",
        "colab_type": "code",
        "colab": {}
      },
      "source": [
        "# 1264,70"
      ],
      "execution_count": 0,
      "outputs": []
    },
    {
      "cell_type": "code",
      "metadata": {
        "colab_type": "code",
        "id": "dcWZdA5EwlCu",
        "outputId": "431482da-3dce-4c37-a6e4-e9e5100c16cb",
        "colab": {
          "base_uri": "https://localhost:8080/",
          "height": 283
        }
      },
      "source": [
        "#identificando possíveis outliers\n",
        "dataframe_envio_portos[['declared_quantity','days_in_transit']].boxplot()"
      ],
      "execution_count": 0,
      "outputs": [
        {
          "output_type": "execute_result",
          "data": {
            "text/plain": [
              "<matplotlib.axes._subplots.AxesSubplot at 0x7f56f341ff60>"
            ]
          },
          "metadata": {
            "tags": []
          },
          "execution_count": 54
        },
        {
          "output_type": "display_data",
          "data": {
            "image/png": "[encoded data removed]",
            "text/plain": [
              "<Figure size 432x288 with 1 Axes>"
            ]
          },
          "metadata": {
            "tags": [],
            "needs_background": "light"
          }
        }
      ]
    },
    {
      "cell_type": "markdown",
      "metadata": {
        "colab_type": "text",
        "id": "ZqxbwHTtxM6A"
      },
      "source": [
        "**Existem Possíveis Outliers?**"
      ]
    },
    {
      "cell_type": "code",
      "metadata": {
        "id": "g_XQqyfO8eZN",
        "colab_type": "code",
        "colab": {}
      },
      "source": [
        "# Sim, principalmente no days_in_transit"
      ],
      "execution_count": 0,
      "outputs": []
    },
    {
      "cell_type": "code",
      "metadata": {
        "colab_type": "code",
        "id": "IECULZZuxMC_",
        "colab": {}
      },
      "source": [
        "#realizando a análise de regressão\n",
        "x=dataframe_envio_portos['declared_weight'].values  #variável independente \n",
        "Y=dataframe_envio_portos['actual_weight'].values #variável dependente "
      ],
      "execution_count": 0,
      "outputs": []
    },
    {
      "cell_type": "code",
      "metadata": {
        "colab_type": "code",
        "id": "pSoJQBOMy7F8",
        "colab": {}
      },
      "source": [
        "#importa o modelo de regressão linear univariada\n",
        "from sklearn.linear_model import LinearRegression"
      ],
      "execution_count": 0,
      "outputs": []
    },
    {
      "cell_type": "code",
      "metadata": {
        "colab_type": "code",
        "id": "AWHHadB4x9_k",
        "colab": {}
      },
      "source": [
        "#Realiza a construção do modelo de regressão\n",
        "reg= LinearRegression()\n",
        "x_Reshaped=x.reshape((-1, 1)) #coloca os dados no formato 2D\n",
        "regressao= reg.fit (x_Reshaped,Y) # encontra os coeficientes (realiza a regressão)"
      ],
      "execution_count": 0,
      "outputs": []
    },
    {
      "cell_type": "code",
      "metadata": {
        "colab_type": "code",
        "id": "nvBdinlry6VR",
        "colab": {}
      },
      "source": [
        "#realiza a previsão\n",
        "previsao=reg.predict(x_Reshaped)"
      ],
      "execution_count": 0,
      "outputs": []
    },
    {
      "cell_type": "code",
      "metadata": {
        "colab_type": "code",
        "id": "kYdLgLmOzhBr",
        "colab": {}
      },
      "source": [
        "#análise do modelo\n",
        "from sklearn.metrics import r2_score #método para o cálculo do R2 (coeficiente de determinação)"
      ],
      "execution_count": 0,
      "outputs": []
    },
    {
      "cell_type": "code",
      "metadata": {
        "colab_type": "code",
        "id": "2JBYpbs5za47",
        "outputId": "7d9eea5b-dc76-4669-8d02-1fd1be2df182",
        "colab": {
          "base_uri": "https://localhost:8080/",
          "height": 51
        }
      },
      "source": [
        "#parâmetros encontrados\n",
        "print('Y = {}X {}'.format(reg.coef_,reg.intercept_))\n",
        "\n",
        "R_2 = r2_score(Y, previsao)  #realiza o cálculo do R2\n",
        "\n",
        "print(\"Coeficiente de Determinação (R2):\", R_2)\n"
      ],
      "execution_count": 0,
      "outputs": [
        {
          "output_type": "stream",
          "text": [
            "Y = [1.03718115]X -5.2962330304399075\n",
            "Coeficiente de Determinação (R2): 0.9993288165644932\n"
          ],
          "name": "stdout"
        }
      ]
    },
    {
      "cell_type": "markdown",
      "metadata": {
        "colab_type": "text",
        "id": "BlguRh0t0oU6"
      },
      "source": [
        "**Pelo Coefiente de Determinação, o Que É Possível Afirmar Sobre a Relação Entre as Variáveis Peso Real x Peso Declarado?**"
      ]
    },
    {
      "cell_type": "code",
      "metadata": {
        "id": "hJIx1PIa8eZl",
        "colab_type": "code",
        "colab": {}
      },
      "source": [
        "# 99% de precisão neste modelo, provavel overfitting do modelo\n",
        "# Peso real e Peso declarado são correlacionados"
      ],
      "execution_count": 0,
      "outputs": []
    },
    {
      "cell_type": "code",
      "metadata": {
        "colab_type": "code",
        "id": "Dl1idrd7zuJM",
        "outputId": "cb6046f8-b24c-488c-c75f-505555fb2e41",
        "colab": {}
      },
      "source": [
        "#realiza o plot dos dados\n",
        "plt.figure(figsize=(4, 4), dpi=100)\n",
        "plt.scatter(x, Y,  color='gray') #realiza o plot do gráfico de dispersão\n",
        "plt.plot(x, previsao, color='red', linewidth=2) # realiza o plto da \"linha\"\n",
        "plt.xlabel(\"Peso Declarado\")\n",
        "plt.ylabel(\"Peso Real\")\n",
        "plt.show()"
      ],
      "execution_count": 0,
      "outputs": [
        {
          "output_type": "display_data",
          "data": {
            "image/png": "[encoded data removed]",
            "text/plain": [
              "<Figure size 400x400 with 1 Axes>"
            ]
          },
          "metadata": {
            "tags": [],
            "needs_background": "light"
          }
        }
      ]
    },
    {
      "cell_type": "code",
      "metadata": {
        "id": "NY6eGF2t8eZr",
        "colab_type": "code",
        "colab": {}
      },
      "source": [
        ""
      ],
      "execution_count": 0,
      "outputs": []
    }
  ]
}